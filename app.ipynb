{
 "cells": [
  {
   "cell_type": "code",
   "execution_count": null,
   "metadata": {},
   "outputs": [
    {
     "name": "stdout",
     "output_type": "stream",
     "text": [
      " * Serving Flask app \"__main__\" (lazy loading)\n",
      " * Environment: production\n",
      "   WARNING: Do not use the development server in a production environment.\n",
      "   Use a production WSGI server instead.\n",
      " * Debug mode: off\n"
     ]
    },
    {
     "name": "stderr",
     "output_type": "stream",
     "text": [
      " * Running on http://127.0.0.1:5000/ (Press CTRL+C to quit)\n"
     ]
    }
   ],
   "source": [
    "import flask\n",
    "import pandas as pd\n",
    "import numpy as np\n",
    "import pickle\n",
    "import joblib\n",
    "\n",
    "from flask import request,render_template, url_for\n",
    "app = flask.Flask(__name__)\n",
    "app.config[\"DEBUG\"] = True\n",
    "\n",
    "from flask_cors import CORS\n",
    "CORS(app)\n",
    "\n",
    "# main index page route\n",
    "@app.route('/')\n",
    "def home():\n",
    "    return render_template(\"index.html\")\n",
    "@app.route('/predict',methods=['POST'])\n",
    "def predict():\n",
    "    model = joblib.load(open(\"infant_prediction_model.pkl\", \"rb\"))\n",
    "    if request.method == \"POST\":\n",
    "        # Date_of_Journey\n",
    "        age= request.form[\"v013\"]\n",
    "        region= request.form[\"v024\"]\n",
    "        place_of_residence= request.form[\"v025\"]\n",
    "        educational_level= request.form[\"v106\"]\n",
    "        antenatal_visit= request.form[\"v130\"]\n",
    "        water_facility= request.form[\"v213\"]\n",
    "        household_member= request.form[\"v409\"]\n",
    "        frequency_of_using_radio= request.form[\"v411\"]\n",
    "        duration_of_current_pregnancy= request.form[\"v412a\"]\n",
    "        entries_in_birth_history= request.form[\"v412c\"]\n",
    "        the_pregnancy_is_wanted= request.form[\"v414e\"]\n",
    "        terminating_pregnancy= request.form[\"v414n\"]\n",
    "        contraceptive_use= request.form[\"v414s\"]\n",
    "        Breast_feeding_ststus= request.form[\"v414v\"]\n",
    "        Body_Mass_index= request.form[\"v445\"]\n",
    "        Husband_educational_level= request.form[\"v457\"]\n",
    "        husband_occupation= request.form[\"b9\"]\n",
    "        respondents_occupation= request.form[\"b19\"]\n",
    "        place_of_delivery= request.form[\"m4\"]\n",
    "        wealth_index= request.form[\"v190\"]\n",
    "        \n",
    "        \n",
    "    final_arr = [age,region,place_of_residence,antenatal_visit,educational_level,water_facility,household_member,\n",
    "                 frequency_of_using_radio,duration_of_current_pregnancy,entries_in_birth_history,the_pregnancy_is_wanted,\n",
    "                 terminating_pregnancy,contraceptive_use,Breast_feeding_ststus,Body_Mass_index,Husband_educational_level,\n",
    "                 husband_occupation,respondents_occupation,place_of_delivery,wealth_index] \n",
    "    data = np.array(final_arr)\n",
    "    data = data.reshape(1, -1)\n",
    "    prediction=model.predict(data)\n",
    "    output=round(prediction[0],2)\n",
    "    if(output==1):\n",
    "        return render_template('index.html',pred=f'Child Alive  {output}.\\n')\n",
    "    else:\n",
    "        return render_template('index.html',pred=f'Child Died {output}')\n",
    "\n",
    "\n",
    "if __name__ == \"__main__\":\n",
    "    app.run(debug=False)\n"
   ]
  },
  {
   "cell_type": "code",
   "execution_count": 1,
   "metadata": {},
   "outputs": [
    {
     "name": "stderr",
     "output_type": "stream",
     "text": [
      "C:\\Users\\Dawit Shibabaw\\Anaconda3\\lib\\site-packages\\sklearn\\base.py:315: UserWarning: Trying to unpickle estimator DecisionTreeClassifier from version 1.0.2 when using version 0.24.0. This might lead to breaking code or invalid results. Use at your own risk.\n",
      "  UserWarning)\n",
      "C:\\Users\\Dawit Shibabaw\\Anaconda3\\lib\\site-packages\\sklearn\\base.py:315: UserWarning: Trying to unpickle estimator RandomForestClassifier from version 1.0.2 when using version 0.24.0. This might lead to breaking code or invalid results. Use at your own risk.\n",
      "  UserWarning)\n"
     ]
    }
   ],
   "source": [
    "import joblib\n",
    "model = joblib.load(open(\"infant_prediction_model.pkl\", \"rb\"))"
   ]
  },
  {
   "cell_type": "code",
   "execution_count": null,
   "metadata": {},
   "outputs": [],
   "source": []
  }
 ],
 "metadata": {
  "kernelspec": {
   "display_name": "Python 3",
   "language": "python",
   "name": "python3"
  },
  "language_info": {
   "codemirror_mode": {
    "name": "ipython",
    "version": 3
   },
   "file_extension": ".py",
   "mimetype": "text/x-python",
   "name": "python",
   "nbconvert_exporter": "python",
   "pygments_lexer": "ipython3",
   "version": "3.7.4"
  }
 },
 "nbformat": 4,
 "nbformat_minor": 2
}
