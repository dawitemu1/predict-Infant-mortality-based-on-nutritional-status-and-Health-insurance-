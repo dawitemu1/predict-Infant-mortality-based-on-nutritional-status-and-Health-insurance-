{
 "cells": [
  {
   "cell_type": "code",
   "execution_count": 1,
   "metadata": {},
   "outputs": [
    {
     "name": "stdout",
     "output_type": "stream",
     "text": [
      "['.ipynb_checkpoints', '2016.ipynb', 'Convert DTA file to CSV.ipynb', 'feature filter.ipynb', 'final implementation  for nutrition .ipynb', 'final-fnd.ipynb', 'final_research_implementation.ipynb', 'imbalnced dataset (1).ipynb', 'Implimnetation  by python.ipynb', 'Marg and convert .ipynb', 'ml_baseline-test.ipynb', 'ml_baseline.ipynb', 'stats.ipynb', 'Untitled.ipynb', 'Untitled2.ipynb', 'webCrawl.py']\n"
     ]
    }
   ],
   "source": [
    "import pandas as pd\n",
    "import numpy as np\n",
    "import matplotlib.pyplot as plt\n",
    "import seaborn as sns\n",
    "\n",
    "%matplotlib inline\n",
    "\n",
    "import os\n",
    "print(os.listdir())\n",
    "\n",
    "import warnings\n",
    "warnings.filterwarnings('ignore')"
   ]
  },
  {
   "cell_type": "code",
   "execution_count": 2,
   "metadata": {},
   "outputs": [],
   "source": [
    "dataset = pd.read_csv(\"D:/Malnutration/EDHS file/Data for implimation nutrrition/nutrition_selectedfeature.csv\")"
   ]
  },
  {
   "cell_type": "code",
   "execution_count": 3,
   "metadata": {},
   "outputs": [
    {
     "data": {
      "text/plain": [
       "(30014, 22)"
      ]
     },
     "execution_count": 3,
     "metadata": {},
     "output_type": "execute_result"
    }
   ],
   "source": [
    "dataset.shape"
   ]
  },
  {
   "cell_type": "code",
   "execution_count": 4,
   "metadata": {},
   "outputs": [
    {
     "data": {
      "text/html": [
       "<div>\n",
       "<style scoped>\n",
       "    .dataframe tbody tr th:only-of-type {\n",
       "        vertical-align: middle;\n",
       "    }\n",
       "\n",
       "    .dataframe tbody tr th {\n",
       "        vertical-align: top;\n",
       "    }\n",
       "\n",
       "    .dataframe thead th {\n",
       "        text-align: right;\n",
       "    }\n",
       "</style>\n",
       "<table border=\"1\" class=\"dataframe\">\n",
       "  <thead>\n",
       "    <tr style=\"text-align: right;\">\n",
       "      <th></th>\n",
       "      <th>Unnamed: 0</th>\n",
       "      <th>v013</th>\n",
       "      <th>v024</th>\n",
       "      <th>v025</th>\n",
       "      <th>v106</th>\n",
       "      <th>v130</th>\n",
       "      <th>v190</th>\n",
       "      <th>v213</th>\n",
       "      <th>v409</th>\n",
       "      <th>v411</th>\n",
       "      <th>...</th>\n",
       "      <th>v414e</th>\n",
       "      <th>v414n</th>\n",
       "      <th>v414s</th>\n",
       "      <th>v414v</th>\n",
       "      <th>v445</th>\n",
       "      <th>v457</th>\n",
       "      <th>b9</th>\n",
       "      <th>b19</th>\n",
       "      <th>m4</th>\n",
       "      <th>b5</th>\n",
       "    </tr>\n",
       "  </thead>\n",
       "  <tbody>\n",
       "    <tr>\n",
       "      <td>0</td>\n",
       "      <td>0</td>\n",
       "      <td>1</td>\n",
       "      <td>4</td>\n",
       "      <td>2</td>\n",
       "      <td>0</td>\n",
       "      <td>0</td>\n",
       "      <td>2</td>\n",
       "      <td>0</td>\n",
       "      <td>1</td>\n",
       "      <td>0</td>\n",
       "      <td>...</td>\n",
       "      <td>0</td>\n",
       "      <td>0</td>\n",
       "      <td>0</td>\n",
       "      <td>0</td>\n",
       "      <td>1</td>\n",
       "      <td>1</td>\n",
       "      <td>0</td>\n",
       "      <td>31</td>\n",
       "      <td>1</td>\n",
       "      <td>1</td>\n",
       "    </tr>\n",
       "    <tr>\n",
       "      <td>1</td>\n",
       "      <td>1</td>\n",
       "      <td>1</td>\n",
       "      <td>4</td>\n",
       "      <td>2</td>\n",
       "      <td>0</td>\n",
       "      <td>0</td>\n",
       "      <td>2</td>\n",
       "      <td>0</td>\n",
       "      <td>1</td>\n",
       "      <td>0</td>\n",
       "      <td>...</td>\n",
       "      <td>0</td>\n",
       "      <td>0</td>\n",
       "      <td>0</td>\n",
       "      <td>0</td>\n",
       "      <td>1</td>\n",
       "      <td>1</td>\n",
       "      <td>0</td>\n",
       "      <td>44</td>\n",
       "      <td>1</td>\n",
       "      <td>1</td>\n",
       "    </tr>\n",
       "    <tr>\n",
       "      <td>2</td>\n",
       "      <td>2</td>\n",
       "      <td>1</td>\n",
       "      <td>4</td>\n",
       "      <td>2</td>\n",
       "      <td>0</td>\n",
       "      <td>0</td>\n",
       "      <td>2</td>\n",
       "      <td>0</td>\n",
       "      <td>1</td>\n",
       "      <td>0</td>\n",
       "      <td>...</td>\n",
       "      <td>0</td>\n",
       "      <td>0</td>\n",
       "      <td>0</td>\n",
       "      <td>0</td>\n",
       "      <td>1</td>\n",
       "      <td>1</td>\n",
       "      <td>0</td>\n",
       "      <td>55</td>\n",
       "      <td>1</td>\n",
       "      <td>1</td>\n",
       "    </tr>\n",
       "    <tr>\n",
       "      <td>3</td>\n",
       "      <td>3</td>\n",
       "      <td>0</td>\n",
       "      <td>4</td>\n",
       "      <td>2</td>\n",
       "      <td>1</td>\n",
       "      <td>0</td>\n",
       "      <td>2</td>\n",
       "      <td>0</td>\n",
       "      <td>1</td>\n",
       "      <td>0</td>\n",
       "      <td>...</td>\n",
       "      <td>0</td>\n",
       "      <td>0</td>\n",
       "      <td>0</td>\n",
       "      <td>0</td>\n",
       "      <td>1</td>\n",
       "      <td>1</td>\n",
       "      <td>0</td>\n",
       "      <td>45</td>\n",
       "      <td>1</td>\n",
       "      <td>0</td>\n",
       "    </tr>\n",
       "    <tr>\n",
       "      <td>4</td>\n",
       "      <td>4</td>\n",
       "      <td>0</td>\n",
       "      <td>4</td>\n",
       "      <td>2</td>\n",
       "      <td>0</td>\n",
       "      <td>0</td>\n",
       "      <td>2</td>\n",
       "      <td>0</td>\n",
       "      <td>1</td>\n",
       "      <td>0</td>\n",
       "      <td>...</td>\n",
       "      <td>0</td>\n",
       "      <td>0</td>\n",
       "      <td>0</td>\n",
       "      <td>0</td>\n",
       "      <td>1</td>\n",
       "      <td>1</td>\n",
       "      <td>0</td>\n",
       "      <td>44</td>\n",
       "      <td>1</td>\n",
       "      <td>1</td>\n",
       "    </tr>\n",
       "  </tbody>\n",
       "</table>\n",
       "<p>5 rows × 22 columns</p>\n",
       "</div>"
      ],
      "text/plain": [
       "   Unnamed: 0  v013  v024  v025  v106  v130  v190  v213  v409  v411  ...  \\\n",
       "0           0     1     4     2     0     0     2     0     1     0  ...   \n",
       "1           1     1     4     2     0     0     2     0     1     0  ...   \n",
       "2           2     1     4     2     0     0     2     0     1     0  ...   \n",
       "3           3     0     4     2     1     0     2     0     1     0  ...   \n",
       "4           4     0     4     2     0     0     2     0     1     0  ...   \n",
       "\n",
       "   v414e  v414n  v414s  v414v  v445  v457  b9  b19  m4  b5  \n",
       "0      0      0      0      0     1     1   0   31   1   1  \n",
       "1      0      0      0      0     1     1   0   44   1   1  \n",
       "2      0      0      0      0     1     1   0   55   1   1  \n",
       "3      0      0      0      0     1     1   0   45   1   0  \n",
       "4      0      0      0      0     1     1   0   44   1   1  \n",
       "\n",
       "[5 rows x 22 columns]"
      ]
     },
     "execution_count": 4,
     "metadata": {},
     "output_type": "execute_result"
    }
   ],
   "source": [
    "dataset.head()"
   ]
  },
  {
   "cell_type": "code",
   "execution_count": 5,
   "metadata": {},
   "outputs": [
    {
     "data": {
      "text/html": [
       "<div>\n",
       "<style scoped>\n",
       "    .dataframe tbody tr th:only-of-type {\n",
       "        vertical-align: middle;\n",
       "    }\n",
       "\n",
       "    .dataframe tbody tr th {\n",
       "        vertical-align: top;\n",
       "    }\n",
       "\n",
       "    .dataframe thead th {\n",
       "        text-align: right;\n",
       "    }\n",
       "</style>\n",
       "<table border=\"1\" class=\"dataframe\">\n",
       "  <thead>\n",
       "    <tr style=\"text-align: right;\">\n",
       "      <th></th>\n",
       "      <th>v013</th>\n",
       "      <th>v024</th>\n",
       "      <th>v025</th>\n",
       "      <th>v106</th>\n",
       "      <th>v130</th>\n",
       "      <th>v190</th>\n",
       "      <th>v213</th>\n",
       "      <th>v409</th>\n",
       "      <th>v411</th>\n",
       "      <th>v412a</th>\n",
       "      <th>...</th>\n",
       "      <th>v414e</th>\n",
       "      <th>v414n</th>\n",
       "      <th>v414s</th>\n",
       "      <th>v414v</th>\n",
       "      <th>v445</th>\n",
       "      <th>v457</th>\n",
       "      <th>b9</th>\n",
       "      <th>b19</th>\n",
       "      <th>m4</th>\n",
       "      <th>b5</th>\n",
       "    </tr>\n",
       "  </thead>\n",
       "  <tbody>\n",
       "    <tr>\n",
       "      <td>0</td>\n",
       "      <td>1</td>\n",
       "      <td>4</td>\n",
       "      <td>2</td>\n",
       "      <td>0</td>\n",
       "      <td>0</td>\n",
       "      <td>2</td>\n",
       "      <td>0</td>\n",
       "      <td>1</td>\n",
       "      <td>0</td>\n",
       "      <td>0</td>\n",
       "      <td>...</td>\n",
       "      <td>0</td>\n",
       "      <td>0</td>\n",
       "      <td>0</td>\n",
       "      <td>0</td>\n",
       "      <td>1</td>\n",
       "      <td>1</td>\n",
       "      <td>0</td>\n",
       "      <td>31</td>\n",
       "      <td>1</td>\n",
       "      <td>1</td>\n",
       "    </tr>\n",
       "    <tr>\n",
       "      <td>1</td>\n",
       "      <td>1</td>\n",
       "      <td>4</td>\n",
       "      <td>2</td>\n",
       "      <td>0</td>\n",
       "      <td>0</td>\n",
       "      <td>2</td>\n",
       "      <td>0</td>\n",
       "      <td>1</td>\n",
       "      <td>0</td>\n",
       "      <td>0</td>\n",
       "      <td>...</td>\n",
       "      <td>0</td>\n",
       "      <td>0</td>\n",
       "      <td>0</td>\n",
       "      <td>0</td>\n",
       "      <td>1</td>\n",
       "      <td>1</td>\n",
       "      <td>0</td>\n",
       "      <td>44</td>\n",
       "      <td>1</td>\n",
       "      <td>1</td>\n",
       "    </tr>\n",
       "    <tr>\n",
       "      <td>2</td>\n",
       "      <td>1</td>\n",
       "      <td>4</td>\n",
       "      <td>2</td>\n",
       "      <td>0</td>\n",
       "      <td>0</td>\n",
       "      <td>2</td>\n",
       "      <td>0</td>\n",
       "      <td>1</td>\n",
       "      <td>0</td>\n",
       "      <td>0</td>\n",
       "      <td>...</td>\n",
       "      <td>0</td>\n",
       "      <td>0</td>\n",
       "      <td>0</td>\n",
       "      <td>0</td>\n",
       "      <td>1</td>\n",
       "      <td>1</td>\n",
       "      <td>0</td>\n",
       "      <td>55</td>\n",
       "      <td>1</td>\n",
       "      <td>1</td>\n",
       "    </tr>\n",
       "    <tr>\n",
       "      <td>3</td>\n",
       "      <td>0</td>\n",
       "      <td>4</td>\n",
       "      <td>2</td>\n",
       "      <td>1</td>\n",
       "      <td>0</td>\n",
       "      <td>2</td>\n",
       "      <td>0</td>\n",
       "      <td>1</td>\n",
       "      <td>0</td>\n",
       "      <td>0</td>\n",
       "      <td>...</td>\n",
       "      <td>0</td>\n",
       "      <td>0</td>\n",
       "      <td>0</td>\n",
       "      <td>0</td>\n",
       "      <td>1</td>\n",
       "      <td>1</td>\n",
       "      <td>0</td>\n",
       "      <td>45</td>\n",
       "      <td>1</td>\n",
       "      <td>0</td>\n",
       "    </tr>\n",
       "    <tr>\n",
       "      <td>4</td>\n",
       "      <td>0</td>\n",
       "      <td>4</td>\n",
       "      <td>2</td>\n",
       "      <td>0</td>\n",
       "      <td>0</td>\n",
       "      <td>2</td>\n",
       "      <td>0</td>\n",
       "      <td>1</td>\n",
       "      <td>0</td>\n",
       "      <td>0</td>\n",
       "      <td>...</td>\n",
       "      <td>0</td>\n",
       "      <td>0</td>\n",
       "      <td>0</td>\n",
       "      <td>0</td>\n",
       "      <td>1</td>\n",
       "      <td>1</td>\n",
       "      <td>0</td>\n",
       "      <td>44</td>\n",
       "      <td>1</td>\n",
       "      <td>1</td>\n",
       "    </tr>\n",
       "    <tr>\n",
       "      <td>...</td>\n",
       "      <td>...</td>\n",
       "      <td>...</td>\n",
       "      <td>...</td>\n",
       "      <td>...</td>\n",
       "      <td>...</td>\n",
       "      <td>...</td>\n",
       "      <td>...</td>\n",
       "      <td>...</td>\n",
       "      <td>...</td>\n",
       "      <td>...</td>\n",
       "      <td>...</td>\n",
       "      <td>...</td>\n",
       "      <td>...</td>\n",
       "      <td>...</td>\n",
       "      <td>...</td>\n",
       "      <td>...</td>\n",
       "      <td>...</td>\n",
       "      <td>...</td>\n",
       "      <td>...</td>\n",
       "      <td>...</td>\n",
       "      <td>...</td>\n",
       "    </tr>\n",
       "    <tr>\n",
       "      <td>30009</td>\n",
       "      <td>1</td>\n",
       "      <td>3</td>\n",
       "      <td>2</td>\n",
       "      <td>0</td>\n",
       "      <td>0</td>\n",
       "      <td>1</td>\n",
       "      <td>0</td>\n",
       "      <td>1</td>\n",
       "      <td>0</td>\n",
       "      <td>0</td>\n",
       "      <td>...</td>\n",
       "      <td>0</td>\n",
       "      <td>0</td>\n",
       "      <td>0</td>\n",
       "      <td>0</td>\n",
       "      <td>1989</td>\n",
       "      <td>1</td>\n",
       "      <td>0</td>\n",
       "      <td>41</td>\n",
       "      <td>1</td>\n",
       "      <td>0</td>\n",
       "    </tr>\n",
       "    <tr>\n",
       "      <td>30010</td>\n",
       "      <td>0</td>\n",
       "      <td>8</td>\n",
       "      <td>1</td>\n",
       "      <td>0</td>\n",
       "      <td>0</td>\n",
       "      <td>0</td>\n",
       "      <td>0</td>\n",
       "      <td>1</td>\n",
       "      <td>0</td>\n",
       "      <td>0</td>\n",
       "      <td>...</td>\n",
       "      <td>0</td>\n",
       "      <td>0</td>\n",
       "      <td>0</td>\n",
       "      <td>0</td>\n",
       "      <td>2294</td>\n",
       "      <td>0</td>\n",
       "      <td>0</td>\n",
       "      <td>48</td>\n",
       "      <td>1</td>\n",
       "      <td>0</td>\n",
       "    </tr>\n",
       "    <tr>\n",
       "      <td>30011</td>\n",
       "      <td>0</td>\n",
       "      <td>8</td>\n",
       "      <td>2</td>\n",
       "      <td>0</td>\n",
       "      <td>1</td>\n",
       "      <td>1</td>\n",
       "      <td>0</td>\n",
       "      <td>1</td>\n",
       "      <td>0</td>\n",
       "      <td>0</td>\n",
       "      <td>...</td>\n",
       "      <td>0</td>\n",
       "      <td>0</td>\n",
       "      <td>0</td>\n",
       "      <td>0</td>\n",
       "      <td>0</td>\n",
       "      <td>1</td>\n",
       "      <td>0</td>\n",
       "      <td>53</td>\n",
       "      <td>1</td>\n",
       "      <td>0</td>\n",
       "    </tr>\n",
       "    <tr>\n",
       "      <td>30012</td>\n",
       "      <td>1</td>\n",
       "      <td>8</td>\n",
       "      <td>1</td>\n",
       "      <td>0</td>\n",
       "      <td>1</td>\n",
       "      <td>1</td>\n",
       "      <td>0</td>\n",
       "      <td>0</td>\n",
       "      <td>0</td>\n",
       "      <td>0</td>\n",
       "      <td>...</td>\n",
       "      <td>0</td>\n",
       "      <td>0</td>\n",
       "      <td>0</td>\n",
       "      <td>0</td>\n",
       "      <td>1</td>\n",
       "      <td>1</td>\n",
       "      <td>0</td>\n",
       "      <td>54</td>\n",
       "      <td>1</td>\n",
       "      <td>0</td>\n",
       "    </tr>\n",
       "    <tr>\n",
       "      <td>30013</td>\n",
       "      <td>0</td>\n",
       "      <td>5</td>\n",
       "      <td>1</td>\n",
       "      <td>0</td>\n",
       "      <td>0</td>\n",
       "      <td>1</td>\n",
       "      <td>0</td>\n",
       "      <td>1</td>\n",
       "      <td>0</td>\n",
       "      <td>0</td>\n",
       "      <td>...</td>\n",
       "      <td>1</td>\n",
       "      <td>0</td>\n",
       "      <td>1</td>\n",
       "      <td>0</td>\n",
       "      <td>1</td>\n",
       "      <td>1</td>\n",
       "      <td>0</td>\n",
       "      <td>39</td>\n",
       "      <td>1</td>\n",
       "      <td>0</td>\n",
       "    </tr>\n",
       "  </tbody>\n",
       "</table>\n",
       "<p>30014 rows × 21 columns</p>\n",
       "</div>"
      ],
      "text/plain": [
       "       v013  v024  v025  v106  v130  v190  v213  v409  v411  v412a  ...  \\\n",
       "0         1     4     2     0     0     2     0     1     0      0  ...   \n",
       "1         1     4     2     0     0     2     0     1     0      0  ...   \n",
       "2         1     4     2     0     0     2     0     1     0      0  ...   \n",
       "3         0     4     2     1     0     2     0     1     0      0  ...   \n",
       "4         0     4     2     0     0     2     0     1     0      0  ...   \n",
       "...     ...   ...   ...   ...   ...   ...   ...   ...   ...    ...  ...   \n",
       "30009     1     3     2     0     0     1     0     1     0      0  ...   \n",
       "30010     0     8     1     0     0     0     0     1     0      0  ...   \n",
       "30011     0     8     2     0     1     1     0     1     0      0  ...   \n",
       "30012     1     8     1     0     1     1     0     0     0      0  ...   \n",
       "30013     0     5     1     0     0     1     0     1     0      0  ...   \n",
       "\n",
       "       v414e  v414n  v414s  v414v  v445  v457  b9  b19  m4  b5  \n",
       "0          0      0      0      0     1     1   0   31   1   1  \n",
       "1          0      0      0      0     1     1   0   44   1   1  \n",
       "2          0      0      0      0     1     1   0   55   1   1  \n",
       "3          0      0      0      0     1     1   0   45   1   0  \n",
       "4          0      0      0      0     1     1   0   44   1   1  \n",
       "...      ...    ...    ...    ...   ...   ...  ..  ...  ..  ..  \n",
       "30009      0      0      0      0  1989     1   0   41   1   0  \n",
       "30010      0      0      0      0  2294     0   0   48   1   0  \n",
       "30011      0      0      0      0     0     1   0   53   1   0  \n",
       "30012      0      0      0      0     1     1   0   54   1   0  \n",
       "30013      1      0      1      0     1     1   0   39   1   0  \n",
       "\n",
       "[30014 rows x 21 columns]"
      ]
     },
     "execution_count": 5,
     "metadata": {},
     "output_type": "execute_result"
    }
   ],
   "source": [
    "dataset.drop(['Unnamed: 0'],axis=1, inplace=True)\n",
    "#dataset.drop(['v445'],axis=1, inplace=True)\n",
    "#dataset.drop(['b19'],axis=1, inplace=True)\n",
    "dataset\n"
   ]
  },
  {
   "cell_type": "code",
   "execution_count": 6,
   "metadata": {},
   "outputs": [
    {
     "data": {
      "text/plain": [
       "v013     int64\n",
       "v024     int64\n",
       "v025     int64\n",
       "v106     int64\n",
       "v130     int64\n",
       "v190     int64\n",
       "v213     int64\n",
       "v409     int64\n",
       "v411     int64\n",
       "v412a    int64\n",
       "v412c    int64\n",
       "v414e    int64\n",
       "v414n    int64\n",
       "v414s    int64\n",
       "v414v    int64\n",
       "v445     int64\n",
       "v457     int64\n",
       "b9       int64\n",
       "b19      int64\n",
       "m4       int64\n",
       "b5       int64\n",
       "dtype: object"
      ]
     },
     "execution_count": 6,
     "metadata": {},
     "output_type": "execute_result"
    }
   ],
   "source": [
    "dataset.dtypes"
   ]
  },
  {
   "cell_type": "code",
   "execution_count": 7,
   "metadata": {},
   "outputs": [
    {
     "data": {
      "text/plain": [
       "<bound method NDFrame.describe of        v013  v024  v025  v106  v130  v190  v213  v409  v411  v412a  ...  \\\n",
       "0         1     4     2     0     0     2     0     1     0      0  ...   \n",
       "1         1     4     2     0     0     2     0     1     0      0  ...   \n",
       "2         1     4     2     0     0     2     0     1     0      0  ...   \n",
       "3         0     4     2     1     0     2     0     1     0      0  ...   \n",
       "4         0     4     2     0     0     2     0     1     0      0  ...   \n",
       "...     ...   ...   ...   ...   ...   ...   ...   ...   ...    ...  ...   \n",
       "30009     1     3     2     0     0     1     0     1     0      0  ...   \n",
       "30010     0     8     1     0     0     0     0     1     0      0  ...   \n",
       "30011     0     8     2     0     1     1     0     1     0      0  ...   \n",
       "30012     1     8     1     0     1     1     0     0     0      0  ...   \n",
       "30013     0     5     1     0     0     1     0     1     0      0  ...   \n",
       "\n",
       "       v414e  v414n  v414s  v414v  v445  v457  b9  b19  m4  b5  \n",
       "0          0      0      0      0     1     1   0   31   1   1  \n",
       "1          0      0      0      0     1     1   0   44   1   1  \n",
       "2          0      0      0      0     1     1   0   55   1   1  \n",
       "3          0      0      0      0     1     1   0   45   1   0  \n",
       "4          0      0      0      0     1     1   0   44   1   1  \n",
       "...      ...    ...    ...    ...   ...   ...  ..  ...  ..  ..  \n",
       "30009      0      0      0      0  1989     1   0   41   1   0  \n",
       "30010      0      0      0      0  2294     0   0   48   1   0  \n",
       "30011      0      0      0      0     0     1   0   53   1   0  \n",
       "30012      0      0      0      0     1     1   0   54   1   0  \n",
       "30013      1      0      1      0     1     1   0   39   1   0  \n",
       "\n",
       "[30014 rows x 21 columns]>"
      ]
     },
     "execution_count": 7,
     "metadata": {},
     "output_type": "execute_result"
    }
   ],
   "source": [
    "dataset.describe"
   ]
  },
  {
   "cell_type": "markdown",
   "metadata": {},
   "source": [
    "# identify the missing values .i.e if there was missing value 0 if not 0. in our case there columns are 0 so there is no missing value "
   ]
  },
  {
   "cell_type": "code",
   "execution_count": 8,
   "metadata": {},
   "outputs": [
    {
     "data": {
      "text/plain": [
       "v013     0\n",
       "v024     0\n",
       "v025     0\n",
       "v106     0\n",
       "v130     0\n",
       "v190     0\n",
       "v213     0\n",
       "v409     0\n",
       "v411     0\n",
       "v412a    0\n",
       "v412c    0\n",
       "v414e    0\n",
       "v414n    0\n",
       "v414s    0\n",
       "v414v    0\n",
       "v445     0\n",
       "v457     0\n",
       "b9       0\n",
       "b19      0\n",
       "m4       0\n",
       "b5       0\n",
       "dtype: int64"
      ]
     },
     "execution_count": 8,
     "metadata": {},
     "output_type": "execute_result"
    }
   ],
   "source": [
    "dataset.isnull().sum()"
   ]
  },
  {
   "cell_type": "code",
   "execution_count": 9,
   "metadata": {},
   "outputs": [
    {
     "data": {
      "text/plain": [
       "49    784\n",
       "48    742\n",
       "50    720\n",
       "25    706\n",
       "24    683\n",
       "52    677\n",
       "53    676\n",
       "39    644\n",
       "36    637\n",
       "40    635\n",
       "37    612\n",
       "38    607\n",
       "26    606\n",
       "41    596\n",
       "51    593\n",
       "42    564\n",
       "13    563\n",
       "54    546\n",
       "30    537\n",
       "6     534\n",
       "17    519\n",
       "12    513\n",
       "18    507\n",
       "47    504\n",
       "15    501\n",
       "28    498\n",
       "29    497\n",
       "55    488\n",
       "14    483\n",
       "31    481\n",
       "16    479\n",
       "46    465\n",
       "27    456\n",
       "4     456\n",
       "32    454\n",
       "5     450\n",
       "35    446\n",
       "45    442\n",
       "8     441\n",
       "23    440\n",
       "58    433\n",
       "3     433\n",
       "22    432\n",
       "19    429\n",
       "43    428\n",
       "20    422\n",
       "7     419\n",
       "11    414\n",
       "44    408\n",
       "21    406\n",
       "9     405\n",
       "10    399\n",
       "34    392\n",
       "2     382\n",
       "56    382\n",
       "0     370\n",
       "1     367\n",
       "33    339\n",
       "57    326\n",
       "59    246\n",
       "Name: b19, dtype: int64"
      ]
     },
     "execution_count": 9,
     "metadata": {},
     "output_type": "execute_result"
    }
   ],
   "source": [
    "dataset['b19'].value_counts()"
   ]
  },
  {
   "cell_type": "code",
   "execution_count": 11,
   "metadata": {},
   "outputs": [],
   "source": [
    "dataset.loc[dataset.b19 ==49 ,'b19'] = 1;\n",
    "dataset.loc[dataset.b19 ==48 ,'b19'] = 0;\n",
    "dataset.loc[dataset.b19 ==50 ,'b19'] = 1;\n",
    "dataset.loc[dataset.b19 ==25 ,'b19'] = 1;\n",
    "dataset.loc[dataset.b19 ==24 ,'b19'] = 0;\n",
    "dataset.loc[dataset.b19 ==52 ,'b19'] = 1;\n",
    "dataset.loc[dataset.b19 ==53 ,'b19'] = 1;\n",
    "dataset.loc[dataset.b19 ==39 ,'b19'] = 0;\n",
    "dataset.loc[dataset.b19 ==36 ,'b19'] = 1;\n",
    "dataset.loc[dataset.b19 ==40 ,'b19'] = 1;\n",
    "dataset.loc[dataset.b19 ==37 ,'b19'] = 0;\n",
    "dataset.loc[dataset.b19 ==38 ,'b19'] = 1;\n",
    "dataset.loc[dataset.b19 ==26 ,'b19'] = 1;\n",
    "dataset.loc[dataset.b19 ==41 ,'b19'] = 0;\n",
    "dataset.loc[dataset.b19 ==51 ,'b19'] = 1;\n",
    "dataset.loc[dataset.b19 ==42 ,'b19'] = 1;\n",
    "dataset.loc[dataset.b19 ==13 ,'b19'] = 0;\n",
    "dataset.loc[dataset.b19 ==54 ,'b19'] = 1;\n",
    "dataset.loc[dataset.b19 ==30 ,'b19'] = 1;\n",
    "dataset.loc[dataset.b19 ==6 ,'b19'] = 0;\n",
    "dataset.loc[dataset.b19 ==17 ,'b19'] = 1;\n",
    "dataset.loc[dataset.b19 ==12 ,'b19'] = 1;\n",
    "dataset.loc[dataset.b19 ==18 ,'b19'] = 0;\n",
    "dataset.loc[dataset.b19 ==47 ,'b19'] = 1;\n",
    "dataset.loc[dataset.b19 ==15 ,'b19'] = 1;\n",
    "dataset.loc[dataset.b19 ==28 ,'b19'] = 0;\n",
    "dataset.loc[dataset.b19 ==29 ,'b19'] = 1;\n",
    "dataset.loc[dataset.b19 ==55 ,'b19'] = 1;\n",
    "dataset.loc[dataset.b19 ==14 ,'b19'] = 0;\n",
    "dataset.loc[dataset.b19 ==31 ,'b19'] = 1;\n",
    "dataset.loc[dataset.b19 ==16 ,'b19'] = 1;\n",
    "dataset.loc[dataset.b19 ==46 ,'b19'] = 0;\n",
    "dataset.loc[dataset.b19 ==27 ,'b19'] = 1;\n",
    "dataset.loc[dataset.b19 ==4 ,'b19'] = 1;\n",
    "dataset.loc[dataset.b19 ==32 ,'b19'] = 0;\n",
    "dataset.loc[dataset.b19 ==5 ,'b19'] = 1;\n",
    "dataset.loc[dataset.b19 ==35 ,'b19'] = 1;\n",
    "dataset.loc[dataset.b19 ==45 ,'b19'] = 0;\n",
    "dataset.loc[dataset.b19 ==8 ,'b19'] = 1;\n",
    "dataset.loc[dataset.b19 ==23 ,'b19'] = 1;\n",
    "dataset.loc[dataset.b19 ==58 ,'b19'] = 0;\n",
    "dataset.loc[dataset.b19 ==3 ,'b19'] = 1;\n",
    "dataset.loc[dataset.b19 ==22 ,'b19'] = 1;\n",
    "dataset.loc[dataset.b19 ==19 ,'b19'] = 0;\n",
    "dataset.loc[dataset.b19 ==43 ,'b19'] = 1;\n",
    "dataset.loc[dataset.b19 ==20 ,'b19'] = 1;\n",
    "dataset.loc[dataset.b19 ==7 ,'b19'] = 0;\n",
    "dataset.loc[dataset.b19 ==11 ,'b19'] = 1;\n",
    "dataset.loc[dataset.b19 ==44 ,'b19'] = 1;\n",
    "dataset.loc[dataset.b19 ==21 ,'b19'] =5;\n",
    "dataset.loc[dataset.b19 ==9 ,'b19'] = 4;\n",
    "dataset.loc[dataset.b19 ==10 ,'b19'] = 1;\n",
    "dataset.loc[dataset.b19 ==34 ,'b19'] = 5;\n",
    "dataset.loc[dataset.b19 ==2 ,'b19'] = 3;\n",
    "dataset.loc[dataset.b19 ==56 ,'b19'] = 4;\n",
    "dataset.loc[dataset.b19 ==33 ,'b19'] = 2;\n",
    "dataset.loc[dataset.b19 ==57 ,'b19'] = 1;\n",
    "dataset.loc[dataset.b19 ==59 ,'b19'] = 1;\n"
   ]
  },
  {
   "cell_type": "code",
   "execution_count": null,
   "metadata": {},
   "outputs": [],
   "source": []
  },
  {
   "cell_type": "markdown",
   "metadata": {},
   "source": [
    "# correlation between columns  "
   ]
  },
  {
   "cell_type": "code",
   "execution_count": 10,
   "metadata": {},
   "outputs": [
    {
     "name": "stdout",
     "output_type": "stream",
     "text": [
      "b5       1.000000\n",
      "m4       0.519360\n",
      "v414e    0.324259\n",
      "v130     0.284030\n",
      "v106     0.262806\n",
      "v414s    0.247764\n",
      "v411     0.241503\n",
      "v013     0.197674\n",
      "v457     0.158281\n",
      "v412c    0.140405\n",
      "v190     0.137318\n",
      "v414v    0.119214\n",
      "v213     0.116745\n",
      "v412a    0.113120\n",
      "b9       0.112937\n",
      "b19      0.104538\n",
      "v414n    0.068821\n",
      "v024     0.067310\n",
      "v445     0.018935\n",
      "v025     0.016573\n",
      "v409     0.000527\n",
      "Name: b5, dtype: float64\n"
     ]
    }
   ],
   "source": [
    "print(dataset.corr()[\"b5\"].abs().sort_values(ascending=False))"
   ]
  },
  {
   "cell_type": "markdown",
   "metadata": {},
   "source": [
    "# there is no duplicated value in our case "
   ]
  },
  {
   "cell_type": "code",
   "execution_count": 10,
   "metadata": {},
   "outputs": [
    {
     "data": {
      "text/plain": [
       "6759"
      ]
     },
     "execution_count": 10,
     "metadata": {},
     "output_type": "execute_result"
    }
   ],
   "source": [
    "dataset.duplicated().sum()"
   ]
  },
  {
   "cell_type": "code",
   "execution_count": 11,
   "metadata": {},
   "outputs": [
    {
     "data": {
      "text/plain": [
       "<matplotlib.axes._subplots.AxesSubplot at 0x1edd6a7f988>"
      ]
     },
     "execution_count": 11,
     "metadata": {},
     "output_type": "execute_result"
    },
    {
     "data": {
      "image/png": "[encoded data removed]",
      "text/plain": [
       "<Figure size 1080x1080 with 2 Axes>"
      ]
     },
     "metadata": {
      "needs_background": "light"
     },
     "output_type": "display_data"
    }
   ],
   "source": [
    "import matplotlib.pyplot as plot\n",
    "import seaborn as s\n",
    "cor1 = dataset.corr()\n",
    "top = cor1.index\n",
    "plot.figure(figsize=(15,15))\n",
    "s.heatmap(dataset[top].corr(method=\"pearson\"), annot=True, cmap=\"RdYlGn\")"
   ]
  },
  {
   "cell_type": "code",
   "execution_count": 32,
   "metadata": {},
   "outputs": [
    {
     "data": {
      "text/html": [
       "<div>\n",
       "<style scoped>\n",
       "    .dataframe tbody tr th:only-of-type {\n",
       "        vertical-align: middle;\n",
       "    }\n",
       "\n",
       "    .dataframe tbody tr th {\n",
       "        vertical-align: top;\n",
       "    }\n",
       "\n",
       "    .dataframe thead th {\n",
       "        text-align: right;\n",
       "    }\n",
       "</style>\n",
       "<table border=\"1\" class=\"dataframe\">\n",
       "  <thead>\n",
       "    <tr style=\"text-align: right;\">\n",
       "      <th></th>\n",
       "      <th>v013</th>\n",
       "      <th>v024</th>\n",
       "      <th>v025</th>\n",
       "      <th>v106</th>\n",
       "      <th>v130</th>\n",
       "      <th>v190</th>\n",
       "      <th>v213</th>\n",
       "      <th>v409</th>\n",
       "      <th>v411</th>\n",
       "      <th>v412a</th>\n",
       "      <th>...</th>\n",
       "      <th>v414e</th>\n",
       "      <th>v414n</th>\n",
       "      <th>v414s</th>\n",
       "      <th>v414v</th>\n",
       "      <th>v445</th>\n",
       "      <th>v457</th>\n",
       "      <th>b9</th>\n",
       "      <th>b19</th>\n",
       "      <th>m4</th>\n",
       "      <th>b5</th>\n",
       "    </tr>\n",
       "  </thead>\n",
       "  <tbody>\n",
       "    <tr>\n",
       "      <td>v013</td>\n",
       "      <td>1.000000</td>\n",
       "      <td>-0.012164</td>\n",
       "      <td>0.006962</td>\n",
       "      <td>0.216456</td>\n",
       "      <td>0.027443</td>\n",
       "      <td>0.004089</td>\n",
       "      <td>0.071850</td>\n",
       "      <td>-0.031646</td>\n",
       "      <td>0.084014</td>\n",
       "      <td>0.022316</td>\n",
       "      <td>...</td>\n",
       "      <td>0.087886</td>\n",
       "      <td>0.015378</td>\n",
       "      <td>0.068675</td>\n",
       "      <td>0.038291</td>\n",
       "      <td>-0.027402</td>\n",
       "      <td>0.017844</td>\n",
       "      <td>0.064997</td>\n",
       "      <td>-0.155064</td>\n",
       "      <td>-0.133462</td>\n",
       "      <td>0.197674</td>\n",
       "    </tr>\n",
       "    <tr>\n",
       "      <td>v024</td>\n",
       "      <td>-0.012164</td>\n",
       "      <td>1.000000</td>\n",
       "      <td>-0.297172</td>\n",
       "      <td>0.243720</td>\n",
       "      <td>0.023745</td>\n",
       "      <td>-0.141483</td>\n",
       "      <td>0.001023</td>\n",
       "      <td>0.012896</td>\n",
       "      <td>0.065956</td>\n",
       "      <td>0.061082</td>\n",
       "      <td>...</td>\n",
       "      <td>0.009143</td>\n",
       "      <td>0.056064</td>\n",
       "      <td>0.014359</td>\n",
       "      <td>-0.017981</td>\n",
       "      <td>-0.051645</td>\n",
       "      <td>0.064598</td>\n",
       "      <td>0.026950</td>\n",
       "      <td>0.007517</td>\n",
       "      <td>-0.026742</td>\n",
       "      <td>0.067310</td>\n",
       "    </tr>\n",
       "    <tr>\n",
       "      <td>v025</td>\n",
       "      <td>0.006962</td>\n",
       "      <td>-0.297172</td>\n",
       "      <td>1.000000</td>\n",
       "      <td>-0.329424</td>\n",
       "      <td>-0.024199</td>\n",
       "      <td>0.418344</td>\n",
       "      <td>0.036410</td>\n",
       "      <td>-0.036592</td>\n",
       "      <td>-0.056933</td>\n",
       "      <td>-0.114446</td>\n",
       "      <td>...</td>\n",
       "      <td>-0.012337</td>\n",
       "      <td>-0.023560</td>\n",
       "      <td>0.002373</td>\n",
       "      <td>0.041251</td>\n",
       "      <td>0.027873</td>\n",
       "      <td>-0.074780</td>\n",
       "      <td>-0.021215</td>\n",
       "      <td>0.037655</td>\n",
       "      <td>-0.011372</td>\n",
       "      <td>0.016573</td>\n",
       "    </tr>\n",
       "    <tr>\n",
       "      <td>v106</td>\n",
       "      <td>0.216456</td>\n",
       "      <td>0.243720</td>\n",
       "      <td>-0.329424</td>\n",
       "      <td>1.000000</td>\n",
       "      <td>0.255219</td>\n",
       "      <td>-0.181172</td>\n",
       "      <td>0.024641</td>\n",
       "      <td>-0.000143</td>\n",
       "      <td>0.124397</td>\n",
       "      <td>0.156170</td>\n",
       "      <td>...</td>\n",
       "      <td>0.109362</td>\n",
       "      <td>0.090476</td>\n",
       "      <td>0.077423</td>\n",
       "      <td>0.009446</td>\n",
       "      <td>-0.044851</td>\n",
       "      <td>0.116014</td>\n",
       "      <td>0.055701</td>\n",
       "      <td>-0.099293</td>\n",
       "      <td>-0.168167</td>\n",
       "      <td>0.262806</td>\n",
       "    </tr>\n",
       "    <tr>\n",
       "      <td>v130</td>\n",
       "      <td>0.027443</td>\n",
       "      <td>0.023745</td>\n",
       "      <td>-0.024199</td>\n",
       "      <td>0.255219</td>\n",
       "      <td>1.000000</td>\n",
       "      <td>0.026392</td>\n",
       "      <td>-0.022385</td>\n",
       "      <td>0.022247</td>\n",
       "      <td>-0.051886</td>\n",
       "      <td>0.051484</td>\n",
       "      <td>...</td>\n",
       "      <td>0.070192</td>\n",
       "      <td>0.059173</td>\n",
       "      <td>0.073103</td>\n",
       "      <td>0.035625</td>\n",
       "      <td>-0.013451</td>\n",
       "      <td>0.154204</td>\n",
       "      <td>0.014461</td>\n",
       "      <td>-0.026202</td>\n",
       "      <td>-0.223962</td>\n",
       "      <td>0.284030</td>\n",
       "    </tr>\n",
       "    <tr>\n",
       "      <td>v190</td>\n",
       "      <td>0.004089</td>\n",
       "      <td>-0.141483</td>\n",
       "      <td>0.418344</td>\n",
       "      <td>-0.181172</td>\n",
       "      <td>0.026392</td>\n",
       "      <td>1.000000</td>\n",
       "      <td>0.023731</td>\n",
       "      <td>0.003937</td>\n",
       "      <td>-0.037278</td>\n",
       "      <td>-0.066855</td>\n",
       "      <td>...</td>\n",
       "      <td>0.048384</td>\n",
       "      <td>-0.007323</td>\n",
       "      <td>0.051059</td>\n",
       "      <td>0.016529</td>\n",
       "      <td>-0.029256</td>\n",
       "      <td>0.017593</td>\n",
       "      <td>-0.008446</td>\n",
       "      <td>0.023601</td>\n",
       "      <td>-0.085229</td>\n",
       "      <td>0.137318</td>\n",
       "    </tr>\n",
       "    <tr>\n",
       "      <td>v213</td>\n",
       "      <td>0.071850</td>\n",
       "      <td>0.001023</td>\n",
       "      <td>0.036410</td>\n",
       "      <td>0.024641</td>\n",
       "      <td>-0.022385</td>\n",
       "      <td>0.023731</td>\n",
       "      <td>1.000000</td>\n",
       "      <td>0.127160</td>\n",
       "      <td>0.022903</td>\n",
       "      <td>-0.003494</td>\n",
       "      <td>...</td>\n",
       "      <td>0.013771</td>\n",
       "      <td>-0.010078</td>\n",
       "      <td>0.012988</td>\n",
       "      <td>0.011167</td>\n",
       "      <td>-0.003695</td>\n",
       "      <td>-0.054257</td>\n",
       "      <td>0.040884</td>\n",
       "      <td>0.066520</td>\n",
       "      <td>0.113315</td>\n",
       "      <td>0.116745</td>\n",
       "    </tr>\n",
       "    <tr>\n",
       "      <td>v409</td>\n",
       "      <td>-0.031646</td>\n",
       "      <td>0.012896</td>\n",
       "      <td>-0.036592</td>\n",
       "      <td>-0.000143</td>\n",
       "      <td>0.022247</td>\n",
       "      <td>0.003937</td>\n",
       "      <td>0.127160</td>\n",
       "      <td>1.000000</td>\n",
       "      <td>0.036701</td>\n",
       "      <td>0.017615</td>\n",
       "      <td>...</td>\n",
       "      <td>0.119761</td>\n",
       "      <td>0.026783</td>\n",
       "      <td>0.090330</td>\n",
       "      <td>0.013373</td>\n",
       "      <td>-0.093956</td>\n",
       "      <td>0.035672</td>\n",
       "      <td>0.025920</td>\n",
       "      <td>0.106337</td>\n",
       "      <td>0.070009</td>\n",
       "      <td>0.000527</td>\n",
       "    </tr>\n",
       "    <tr>\n",
       "      <td>v411</td>\n",
       "      <td>0.084014</td>\n",
       "      <td>0.065956</td>\n",
       "      <td>-0.056933</td>\n",
       "      <td>0.124397</td>\n",
       "      <td>-0.051886</td>\n",
       "      <td>-0.037278</td>\n",
       "      <td>0.022903</td>\n",
       "      <td>0.036701</td>\n",
       "      <td>1.000000</td>\n",
       "      <td>0.196022</td>\n",
       "      <td>...</td>\n",
       "      <td>0.322250</td>\n",
       "      <td>0.094923</td>\n",
       "      <td>0.239853</td>\n",
       "      <td>0.105086</td>\n",
       "      <td>0.010111</td>\n",
       "      <td>-0.011922</td>\n",
       "      <td>-0.002023</td>\n",
       "      <td>-0.094816</td>\n",
       "      <td>-0.157808</td>\n",
       "      <td>0.241503</td>\n",
       "    </tr>\n",
       "    <tr>\n",
       "      <td>v412a</td>\n",
       "      <td>0.022316</td>\n",
       "      <td>0.061082</td>\n",
       "      <td>-0.114446</td>\n",
       "      <td>0.156170</td>\n",
       "      <td>0.051484</td>\n",
       "      <td>-0.066855</td>\n",
       "      <td>-0.003494</td>\n",
       "      <td>0.017615</td>\n",
       "      <td>0.196022</td>\n",
       "      <td>1.000000</td>\n",
       "      <td>...</td>\n",
       "      <td>0.160508</td>\n",
       "      <td>0.105685</td>\n",
       "      <td>0.117648</td>\n",
       "      <td>0.099336</td>\n",
       "      <td>-0.007474</td>\n",
       "      <td>0.036896</td>\n",
       "      <td>-0.011083</td>\n",
       "      <td>-0.069626</td>\n",
       "      <td>-0.107649</td>\n",
       "      <td>0.113120</td>\n",
       "    </tr>\n",
       "    <tr>\n",
       "      <td>v412c</td>\n",
       "      <td>0.042951</td>\n",
       "      <td>0.053891</td>\n",
       "      <td>-0.053616</td>\n",
       "      <td>0.097283</td>\n",
       "      <td>0.021712</td>\n",
       "      <td>-0.007976</td>\n",
       "      <td>-0.002784</td>\n",
       "      <td>0.044364</td>\n",
       "      <td>0.172488</td>\n",
       "      <td>0.148466</td>\n",
       "      <td>...</td>\n",
       "      <td>0.207955</td>\n",
       "      <td>0.185646</td>\n",
       "      <td>0.153266</td>\n",
       "      <td>0.155836</td>\n",
       "      <td>-0.005017</td>\n",
       "      <td>0.029306</td>\n",
       "      <td>-0.000636</td>\n",
       "      <td>-0.053194</td>\n",
       "      <td>-0.109863</td>\n",
       "      <td>0.140405</td>\n",
       "    </tr>\n",
       "    <tr>\n",
       "      <td>v414e</td>\n",
       "      <td>0.087886</td>\n",
       "      <td>0.009143</td>\n",
       "      <td>-0.012337</td>\n",
       "      <td>0.109362</td>\n",
       "      <td>0.070192</td>\n",
       "      <td>0.048384</td>\n",
       "      <td>0.013771</td>\n",
       "      <td>0.119761</td>\n",
       "      <td>0.322250</td>\n",
       "      <td>0.160508</td>\n",
       "      <td>...</td>\n",
       "      <td>1.000000</td>\n",
       "      <td>0.119747</td>\n",
       "      <td>0.481044</td>\n",
       "      <td>0.150877</td>\n",
       "      <td>-0.032923</td>\n",
       "      <td>0.065167</td>\n",
       "      <td>-0.012986</td>\n",
       "      <td>-0.109308</td>\n",
       "      <td>-0.275982</td>\n",
       "      <td>0.324259</td>\n",
       "    </tr>\n",
       "    <tr>\n",
       "      <td>v414n</td>\n",
       "      <td>0.015378</td>\n",
       "      <td>0.056064</td>\n",
       "      <td>-0.023560</td>\n",
       "      <td>0.090476</td>\n",
       "      <td>0.059173</td>\n",
       "      <td>-0.007323</td>\n",
       "      <td>-0.010078</td>\n",
       "      <td>0.026783</td>\n",
       "      <td>0.094923</td>\n",
       "      <td>0.105685</td>\n",
       "      <td>...</td>\n",
       "      <td>0.119747</td>\n",
       "      <td>1.000000</td>\n",
       "      <td>0.122956</td>\n",
       "      <td>0.114474</td>\n",
       "      <td>-0.004320</td>\n",
       "      <td>0.021859</td>\n",
       "      <td>-0.006111</td>\n",
       "      <td>-0.025382</td>\n",
       "      <td>-0.057593</td>\n",
       "      <td>0.068821</td>\n",
       "    </tr>\n",
       "    <tr>\n",
       "      <td>v414s</td>\n",
       "      <td>0.068675</td>\n",
       "      <td>0.014359</td>\n",
       "      <td>0.002373</td>\n",
       "      <td>0.077423</td>\n",
       "      <td>0.073103</td>\n",
       "      <td>0.051059</td>\n",
       "      <td>0.012988</td>\n",
       "      <td>0.090330</td>\n",
       "      <td>0.239853</td>\n",
       "      <td>0.117648</td>\n",
       "      <td>...</td>\n",
       "      <td>0.481044</td>\n",
       "      <td>0.122956</td>\n",
       "      <td>1.000000</td>\n",
       "      <td>0.147822</td>\n",
       "      <td>0.010905</td>\n",
       "      <td>0.031986</td>\n",
       "      <td>-0.009941</td>\n",
       "      <td>-0.079932</td>\n",
       "      <td>-0.208730</td>\n",
       "      <td>0.247764</td>\n",
       "    </tr>\n",
       "    <tr>\n",
       "      <td>v414v</td>\n",
       "      <td>0.038291</td>\n",
       "      <td>-0.017981</td>\n",
       "      <td>0.041251</td>\n",
       "      <td>0.009446</td>\n",
       "      <td>0.035625</td>\n",
       "      <td>0.016529</td>\n",
       "      <td>0.011167</td>\n",
       "      <td>0.013373</td>\n",
       "      <td>0.105086</td>\n",
       "      <td>0.099336</td>\n",
       "      <td>...</td>\n",
       "      <td>0.150877</td>\n",
       "      <td>0.114474</td>\n",
       "      <td>0.147822</td>\n",
       "      <td>1.000000</td>\n",
       "      <td>0.037238</td>\n",
       "      <td>0.013440</td>\n",
       "      <td>0.003140</td>\n",
       "      <td>-0.038660</td>\n",
       "      <td>-0.078089</td>\n",
       "      <td>0.119214</td>\n",
       "    </tr>\n",
       "    <tr>\n",
       "      <td>v445</td>\n",
       "      <td>-0.027402</td>\n",
       "      <td>-0.051645</td>\n",
       "      <td>0.027873</td>\n",
       "      <td>-0.044851</td>\n",
       "      <td>-0.013451</td>\n",
       "      <td>-0.029256</td>\n",
       "      <td>-0.003695</td>\n",
       "      <td>-0.093956</td>\n",
       "      <td>0.010111</td>\n",
       "      <td>-0.007474</td>\n",
       "      <td>...</td>\n",
       "      <td>-0.032923</td>\n",
       "      <td>-0.004320</td>\n",
       "      <td>0.010905</td>\n",
       "      <td>0.037238</td>\n",
       "      <td>1.000000</td>\n",
       "      <td>-0.264805</td>\n",
       "      <td>0.001636</td>\n",
       "      <td>0.012624</td>\n",
       "      <td>-0.007400</td>\n",
       "      <td>0.020135</td>\n",
       "    </tr>\n",
       "    <tr>\n",
       "      <td>v457</td>\n",
       "      <td>0.017844</td>\n",
       "      <td>0.064598</td>\n",
       "      <td>-0.074780</td>\n",
       "      <td>0.116014</td>\n",
       "      <td>0.154204</td>\n",
       "      <td>0.017593</td>\n",
       "      <td>-0.054257</td>\n",
       "      <td>0.035672</td>\n",
       "      <td>-0.011922</td>\n",
       "      <td>0.036896</td>\n",
       "      <td>...</td>\n",
       "      <td>0.065167</td>\n",
       "      <td>0.021859</td>\n",
       "      <td>0.031986</td>\n",
       "      <td>0.013440</td>\n",
       "      <td>-0.264805</td>\n",
       "      <td>1.000000</td>\n",
       "      <td>0.014983</td>\n",
       "      <td>-0.012088</td>\n",
       "      <td>-0.105989</td>\n",
       "      <td>0.158281</td>\n",
       "    </tr>\n",
       "    <tr>\n",
       "      <td>b9</td>\n",
       "      <td>0.064997</td>\n",
       "      <td>0.026950</td>\n",
       "      <td>-0.021215</td>\n",
       "      <td>0.055701</td>\n",
       "      <td>0.014461</td>\n",
       "      <td>-0.008446</td>\n",
       "      <td>0.040884</td>\n",
       "      <td>0.025920</td>\n",
       "      <td>-0.002023</td>\n",
       "      <td>-0.011083</td>\n",
       "      <td>...</td>\n",
       "      <td>-0.012986</td>\n",
       "      <td>-0.006111</td>\n",
       "      <td>-0.009941</td>\n",
       "      <td>0.003140</td>\n",
       "      <td>0.001636</td>\n",
       "      <td>0.014983</td>\n",
       "      <td>1.000000</td>\n",
       "      <td>0.053699</td>\n",
       "      <td>0.040394</td>\n",
       "      <td>0.112937</td>\n",
       "    </tr>\n",
       "    <tr>\n",
       "      <td>b19</td>\n",
       "      <td>-0.155064</td>\n",
       "      <td>0.007517</td>\n",
       "      <td>0.037655</td>\n",
       "      <td>-0.099293</td>\n",
       "      <td>-0.026202</td>\n",
       "      <td>0.023601</td>\n",
       "      <td>0.066520</td>\n",
       "      <td>0.106337</td>\n",
       "      <td>-0.094816</td>\n",
       "      <td>-0.069626</td>\n",
       "      <td>...</td>\n",
       "      <td>-0.109308</td>\n",
       "      <td>-0.025382</td>\n",
       "      <td>-0.079932</td>\n",
       "      <td>-0.038660</td>\n",
       "      <td>0.012624</td>\n",
       "      <td>-0.012088</td>\n",
       "      <td>0.053699</td>\n",
       "      <td>1.000000</td>\n",
       "      <td>0.501397</td>\n",
       "      <td>-0.104538</td>\n",
       "    </tr>\n",
       "    <tr>\n",
       "      <td>m4</td>\n",
       "      <td>-0.133462</td>\n",
       "      <td>-0.026742</td>\n",
       "      <td>-0.011372</td>\n",
       "      <td>-0.168167</td>\n",
       "      <td>-0.223962</td>\n",
       "      <td>-0.085229</td>\n",
       "      <td>0.113315</td>\n",
       "      <td>0.070009</td>\n",
       "      <td>-0.157808</td>\n",
       "      <td>-0.107649</td>\n",
       "      <td>...</td>\n",
       "      <td>-0.275982</td>\n",
       "      <td>-0.057593</td>\n",
       "      <td>-0.208730</td>\n",
       "      <td>-0.078089</td>\n",
       "      <td>-0.007400</td>\n",
       "      <td>-0.105989</td>\n",
       "      <td>0.040394</td>\n",
       "      <td>0.501397</td>\n",
       "      <td>1.000000</td>\n",
       "      <td>-0.519360</td>\n",
       "    </tr>\n",
       "    <tr>\n",
       "      <td>b5</td>\n",
       "      <td>0.197674</td>\n",
       "      <td>0.067310</td>\n",
       "      <td>0.016573</td>\n",
       "      <td>0.262806</td>\n",
       "      <td>0.284030</td>\n",
       "      <td>0.137318</td>\n",
       "      <td>0.116745</td>\n",
       "      <td>0.000527</td>\n",
       "      <td>0.241503</td>\n",
       "      <td>0.113120</td>\n",
       "      <td>...</td>\n",
       "      <td>0.324259</td>\n",
       "      <td>0.068821</td>\n",
       "      <td>0.247764</td>\n",
       "      <td>0.119214</td>\n",
       "      <td>0.020135</td>\n",
       "      <td>0.158281</td>\n",
       "      <td>0.112937</td>\n",
       "      <td>-0.104538</td>\n",
       "      <td>-0.519360</td>\n",
       "      <td>1.000000</td>\n",
       "    </tr>\n",
       "  </tbody>\n",
       "</table>\n",
       "<p>21 rows × 21 columns</p>\n",
       "</div>"
      ],
      "text/plain": [
       "           v013      v024      v025      v106      v130      v190      v213  \\\n",
       "v013   1.000000 -0.012164  0.006962  0.216456  0.027443  0.004089  0.071850   \n",
       "v024  -0.012164  1.000000 -0.297172  0.243720  0.023745 -0.141483  0.001023   \n",
       "v025   0.006962 -0.297172  1.000000 -0.329424 -0.024199  0.418344  0.036410   \n",
       "v106   0.216456  0.243720 -0.329424  1.000000  0.255219 -0.181172  0.024641   \n",
       "v130   0.027443  0.023745 -0.024199  0.255219  1.000000  0.026392 -0.022385   \n",
       "v190   0.004089 -0.141483  0.418344 -0.181172  0.026392  1.000000  0.023731   \n",
       "v213   0.071850  0.001023  0.036410  0.024641 -0.022385  0.023731  1.000000   \n",
       "v409  -0.031646  0.012896 -0.036592 -0.000143  0.022247  0.003937  0.127160   \n",
       "v411   0.084014  0.065956 -0.056933  0.124397 -0.051886 -0.037278  0.022903   \n",
       "v412a  0.022316  0.061082 -0.114446  0.156170  0.051484 -0.066855 -0.003494   \n",
       "v412c  0.042951  0.053891 -0.053616  0.097283  0.021712 -0.007976 -0.002784   \n",
       "v414e  0.087886  0.009143 -0.012337  0.109362  0.070192  0.048384  0.013771   \n",
       "v414n  0.015378  0.056064 -0.023560  0.090476  0.059173 -0.007323 -0.010078   \n",
       "v414s  0.068675  0.014359  0.002373  0.077423  0.073103  0.051059  0.012988   \n",
       "v414v  0.038291 -0.017981  0.041251  0.009446  0.035625  0.016529  0.011167   \n",
       "v445  -0.027402 -0.051645  0.027873 -0.044851 -0.013451 -0.029256 -0.003695   \n",
       "v457   0.017844  0.064598 -0.074780  0.116014  0.154204  0.017593 -0.054257   \n",
       "b9     0.064997  0.026950 -0.021215  0.055701  0.014461 -0.008446  0.040884   \n",
       "b19   -0.155064  0.007517  0.037655 -0.099293 -0.026202  0.023601  0.066520   \n",
       "m4    -0.133462 -0.026742 -0.011372 -0.168167 -0.223962 -0.085229  0.113315   \n",
       "b5     0.197674  0.067310  0.016573  0.262806  0.284030  0.137318  0.116745   \n",
       "\n",
       "           v409      v411     v412a  ...     v414e     v414n     v414s  \\\n",
       "v013  -0.031646  0.084014  0.022316  ...  0.087886  0.015378  0.068675   \n",
       "v024   0.012896  0.065956  0.061082  ...  0.009143  0.056064  0.014359   \n",
       "v025  -0.036592 -0.056933 -0.114446  ... -0.012337 -0.023560  0.002373   \n",
       "v106  -0.000143  0.124397  0.156170  ...  0.109362  0.090476  0.077423   \n",
       "v130   0.022247 -0.051886  0.051484  ...  0.070192  0.059173  0.073103   \n",
       "v190   0.003937 -0.037278 -0.066855  ...  0.048384 -0.007323  0.051059   \n",
       "v213   0.127160  0.022903 -0.003494  ...  0.013771 -0.010078  0.012988   \n",
       "v409   1.000000  0.036701  0.017615  ...  0.119761  0.026783  0.090330   \n",
       "v411   0.036701  1.000000  0.196022  ...  0.322250  0.094923  0.239853   \n",
       "v412a  0.017615  0.196022  1.000000  ...  0.160508  0.105685  0.117648   \n",
       "v412c  0.044364  0.172488  0.148466  ...  0.207955  0.185646  0.153266   \n",
       "v414e  0.119761  0.322250  0.160508  ...  1.000000  0.119747  0.481044   \n",
       "v414n  0.026783  0.094923  0.105685  ...  0.119747  1.000000  0.122956   \n",
       "v414s  0.090330  0.239853  0.117648  ...  0.481044  0.122956  1.000000   \n",
       "v414v  0.013373  0.105086  0.099336  ...  0.150877  0.114474  0.147822   \n",
       "v445  -0.093956  0.010111 -0.007474  ... -0.032923 -0.004320  0.010905   \n",
       "v457   0.035672 -0.011922  0.036896  ...  0.065167  0.021859  0.031986   \n",
       "b9     0.025920 -0.002023 -0.011083  ... -0.012986 -0.006111 -0.009941   \n",
       "b19    0.106337 -0.094816 -0.069626  ... -0.109308 -0.025382 -0.079932   \n",
       "m4     0.070009 -0.157808 -0.107649  ... -0.275982 -0.057593 -0.208730   \n",
       "b5     0.000527  0.241503  0.113120  ...  0.324259  0.068821  0.247764   \n",
       "\n",
       "          v414v      v445      v457        b9       b19        m4        b5  \n",
       "v013   0.038291 -0.027402  0.017844  0.064997 -0.155064 -0.133462  0.197674  \n",
       "v024  -0.017981 -0.051645  0.064598  0.026950  0.007517 -0.026742  0.067310  \n",
       "v025   0.041251  0.027873 -0.074780 -0.021215  0.037655 -0.011372  0.016573  \n",
       "v106   0.009446 -0.044851  0.116014  0.055701 -0.099293 -0.168167  0.262806  \n",
       "v130   0.035625 -0.013451  0.154204  0.014461 -0.026202 -0.223962  0.284030  \n",
       "v190   0.016529 -0.029256  0.017593 -0.008446  0.023601 -0.085229  0.137318  \n",
       "v213   0.011167 -0.003695 -0.054257  0.040884  0.066520  0.113315  0.116745  \n",
       "v409   0.013373 -0.093956  0.035672  0.025920  0.106337  0.070009  0.000527  \n",
       "v411   0.105086  0.010111 -0.011922 -0.002023 -0.094816 -0.157808  0.241503  \n",
       "v412a  0.099336 -0.007474  0.036896 -0.011083 -0.069626 -0.107649  0.113120  \n",
       "v412c  0.155836 -0.005017  0.029306 -0.000636 -0.053194 -0.109863  0.140405  \n",
       "v414e  0.150877 -0.032923  0.065167 -0.012986 -0.109308 -0.275982  0.324259  \n",
       "v414n  0.114474 -0.004320  0.021859 -0.006111 -0.025382 -0.057593  0.068821  \n",
       "v414s  0.147822  0.010905  0.031986 -0.009941 -0.079932 -0.208730  0.247764  \n",
       "v414v  1.000000  0.037238  0.013440  0.003140 -0.038660 -0.078089  0.119214  \n",
       "v445   0.037238  1.000000 -0.264805  0.001636  0.012624 -0.007400  0.020135  \n",
       "v457   0.013440 -0.264805  1.000000  0.014983 -0.012088 -0.105989  0.158281  \n",
       "b9     0.003140  0.001636  0.014983  1.000000  0.053699  0.040394  0.112937  \n",
       "b19   -0.038660  0.012624 -0.012088  0.053699  1.000000  0.501397 -0.104538  \n",
       "m4    -0.078089 -0.007400 -0.105989  0.040394  0.501397  1.000000 -0.519360  \n",
       "b5     0.119214  0.020135  0.158281  0.112937 -0.104538 -0.519360  1.000000  \n",
       "\n",
       "[21 rows x 21 columns]"
      ]
     },
     "execution_count": 32,
     "metadata": {},
     "output_type": "execute_result"
    }
   ],
   "source": [
    "cor1"
   ]
  },
  {
   "cell_type": "markdown",
   "metadata": {},
   "source": [
    "# identifying the outlier"
   ]
  },
  {
   "cell_type": "code",
   "execution_count": null,
   "metadata": {},
   "outputs": [],
   "source": [
    "# import seaborn as sns\n",
    "sns.boxplot(x=dataset['b5'])\n",
    "plt.title('before removing the outlier')"
   ]
  },
  {
   "cell_type": "code",
   "execution_count": 12,
   "metadata": {},
   "outputs": [],
   "source": [
    "#for i in dataset['b5']:\n",
    " #   q1 = dataset['b5'].quantile(0.25)\n",
    "  #  q3 = dataset['b5'].quantile(0.75)\n",
    "   # iqr = q3-q1\n",
    "    #Lower_tail = q1-1.5*iqr\n",
    "    #Upper_tail = q3+1.5*iqr\n",
    "    #if i > Upper_tail or i < Lower_tail:\n",
    "     #      dataset['b5']=dataset['b5'].replace(i, np.median(dataset['b5']))\n",
    "#sns.boxplot(dataset['b5'])\n",
    "#plt.title('after outlier remove ')\n",
    "#plt.show()"
   ]
  },
  {
   "cell_type": "markdown",
   "metadata": {},
   "source": [
    "# in these case there is no outlier "
   ]
  },
  {
   "cell_type": "markdown",
   "metadata": {},
   "source": [
    "# # # PCA in scikit-learn"
   ]
  },
  {
   "cell_type": "markdown",
   "metadata": {},
   "source": [
    "PCA's main idea is dimensionality reduction, you can leverage that to speed up your machine learning algorithm's training and testing time considering your data has a lot of features, and the ML algorithm's learning is too slow."
   ]
  },
  {
   "cell_type": "code",
   "execution_count": null,
   "metadata": {},
   "outputs": [],
   "source": [
    "# from sklearn.preprocessing import StandardScaler\n",
    "scaler = StandardScaler()\n",
    "scaler.fit(dataset)"
   ]
  },
  {
   "cell_type": "code",
   "execution_count": 14,
   "metadata": {},
   "outputs": [],
   "source": [
    "scaled_data = scaler.transform(dataset)"
   ]
  },
  {
   "cell_type": "code",
   "execution_count": 15,
   "metadata": {},
   "outputs": [
    {
     "data": {
      "text/plain": [
       "PCA(copy=True, iterated_power='auto', n_components=2, random_state=None,\n",
       "    svd_solver='auto', tol=0.0, whiten=False)"
      ]
     },
     "execution_count": 15,
     "metadata": {},
     "output_type": "execute_result"
    }
   ],
   "source": [
    "from sklearn.decomposition import PCA\n",
    "pca = PCA(n_components=2)\n",
    "pca.fit(scaled_data)"
   ]
  },
  {
   "cell_type": "code",
   "execution_count": 16,
   "metadata": {},
   "outputs": [],
   "source": [
    "x_pca = pca.transform(scaled_data)"
   ]
  },
  {
   "cell_type": "code",
   "execution_count": 17,
   "metadata": {},
   "outputs": [
    {
     "data": {
      "text/plain": [
       "(41392, 14)"
      ]
     },
     "execution_count": 17,
     "metadata": {},
     "output_type": "execute_result"
    }
   ],
   "source": [
    "scaled_data.shape"
   ]
  },
  {
   "cell_type": "code",
   "execution_count": 18,
   "metadata": {},
   "outputs": [
    {
     "data": {
      "text/plain": [
       "(41392, 2)"
      ]
     },
     "execution_count": 18,
     "metadata": {},
     "output_type": "execute_result"
    }
   ],
   "source": [
    "x_pca.shape"
   ]
  },
  {
   "cell_type": "code",
   "execution_count": 19,
   "metadata": {},
   "outputs": [
    {
     "data": {
      "text/plain": [
       "Text(0, 0.5, 'Second Principal Component')"
      ]
     },
     "execution_count": 19,
     "metadata": {},
     "output_type": "execute_result"
    },
    {
     "data": {
      "image/png": "[encoded data removed]",
      "text/plain": [
       "<Figure size 576x432 with 1 Axes>"
      ]
     },
     "metadata": {
      "needs_background": "light"
     },
     "output_type": "display_data"
    }
   ],
   "source": [
    "plt.figure(figsize=(8,6))\n",
    "plt.scatter(x_pca[:,0],x_pca[:,1],c=dataset['b5'],cmap='rainbow')\n",
    "plt.xlabel('First principal component')\n",
    "plt.ylabel('Second Principal Component')"
   ]
  },
  {
   "cell_type": "code",
   "execution_count": 20,
   "metadata": {},
   "outputs": [
    {
     "data": {
      "text/plain": [
       "array([[-0.00236411,  0.02551063,  0.58477992,  0.24411791,  0.27003787,\n",
       "         0.57125507,  0.44423807, -0.00719377, -0.00885282, -0.00116142,\n",
       "         0.00310258, -0.00240581, -0.00379562, -0.0319524 ],\n",
       "       [-0.04499362, -0.00877474,  0.00909236, -0.00749674,  0.00148155,\n",
       "         0.01128106,  0.00123408,  0.70568156,  0.60670225,  0.20934191,\n",
       "         0.2737596 ,  0.09377935,  0.06150514,  0.0144511 ]])"
      ]
     },
     "execution_count": 20,
     "metadata": {},
     "output_type": "execute_result"
    }
   ],
   "source": [
    "pca.components_"
   ]
  },
  {
   "cell_type": "markdown",
   "metadata": {},
   "source": [
    "## IV. Train Test split"
   ]
  },
  {
   "cell_type": "code",
   "execution_count": 11,
   "metadata": {},
   "outputs": [],
   "source": [
    "from sklearn.model_selection import train_test_split\n",
    "\n",
    "predictors = dataset.drop(\"b5\",axis=1)\n",
    "target = dataset[\"b5\"]\n",
    "\n",
    "X_train,X_test,Y_train,Y_test = train_test_split(predictors,target,test_size=0.30,random_state=0)"
   ]
  },
  {
   "cell_type": "code",
   "execution_count": 12,
   "metadata": {},
   "outputs": [
    {
     "data": {
      "text/plain": [
       "(21009, 20)"
      ]
     },
     "execution_count": 12,
     "metadata": {},
     "output_type": "execute_result"
    }
   ],
   "source": [
    "X_train.shape"
   ]
  },
  {
   "cell_type": "code",
   "execution_count": 13,
   "metadata": {},
   "outputs": [
    {
     "data": {
      "text/plain": [
       "(9005, 20)"
      ]
     },
     "execution_count": 13,
     "metadata": {},
     "output_type": "execute_result"
    }
   ],
   "source": [
    "X_test.shape"
   ]
  },
  {
   "cell_type": "markdown",
   "metadata": {},
   "source": [
    "# model fitting"
   ]
  },
  {
   "cell_type": "code",
   "execution_count": 14,
   "metadata": {},
   "outputs": [],
   "source": [
    "from sklearn.metrics import accuracy_score"
   ]
  },
  {
   "cell_type": "markdown",
   "metadata": {},
   "source": [
    "# # Decsion tree"
   ]
  },
  {
   "cell_type": "code",
   "execution_count": 15,
   "metadata": {},
   "outputs": [],
   "source": [
    "from sklearn.tree import DecisionTreeClassifier\n",
    "\n",
    "max_accuracy = 0\n",
    "\n",
    "\n",
    "for x in range(200):\n",
    "    dt = DecisionTreeClassifier(random_state=x)\n",
    "    dt.fit(X_train,Y_train)\n",
    "    Y_pred_dt = dt.predict(X_test)\n",
    "    current_accuracy = round(accuracy_score(Y_pred_dt,Y_test)*100,2)\n",
    "    if(current_accuracy>max_accuracy):\n",
    "        max_accuracy = current_accuracy\n",
    "        best_x = x\n",
    "        \n",
    "#print(max_accuracy)\n",
    "#print(best_x)\n",
    "\n",
    "\n",
    "dt = DecisionTreeClassifier(random_state=best_x)\n",
    "dt.fit(X_train,Y_train)\n",
    "Y_pred_dt = dt.predict(X_test)"
   ]
  },
  {
   "cell_type": "code",
   "execution_count": 16,
   "metadata": {},
   "outputs": [
    {
     "name": "stdout",
     "output_type": "stream",
     "text": [
      "(9005,)\n"
     ]
    }
   ],
   "source": [
    "print(Y_pred_dt.shape)"
   ]
  },
  {
   "cell_type": "code",
   "execution_count": 17,
   "metadata": {},
   "outputs": [
    {
     "name": "stdout",
     "output_type": "stream",
     "text": [
      "The accuracy score achieved using Decision Tree is: 91.47 %\n"
     ]
    }
   ],
   "source": [
    " score_dt = round(accuracy_score(Y_pred_dt,Y_test)*100,2)\n",
    "\n",
    "print(\"The accuracy score achieved using Decision Tree is: \"+str(score_dt)+\" %\")"
   ]
  },
  {
   "cell_type": "code",
   "execution_count": 18,
   "metadata": {},
   "outputs": [],
   "source": [
    "## Model Performance Using Confusion matrix and accuracy \n",
    "import seaborn as s\n",
    "from sklearn.metrics import confusion_matrix, roc_curve,roc_auc_score, precision_score,recall_score\n",
    "dconfusion = confusion_matrix(Y_test, Y_pred_dt)\n",
    "dprecision = precision_score(Y_test,Y_pred_dt)\n",
    "drecall = recall_score(Y_test, Y_pred_dt)"
   ]
  },
  {
   "cell_type": "code",
   "execution_count": 19,
   "metadata": {},
   "outputs": [
    {
     "name": "stdout",
     "output_type": "stream",
     "text": [
      "#####################################\n",
      "#       Decision T Precision        #\n",
      "#       --------------------        #\n",
      "#              93.86                #\n",
      "#####################################\n",
      "\n",
      "\n",
      "\n",
      "####################################\n",
      "#     Decision T Recall            #\n",
      "#     ------------------           #\n",
      "#              88.67               #\n",
      "####################################\n",
      "\n",
      "\n",
      "\n",
      "     Decision Tree confusion matrix           \n",
      "     ==============================          \n",
      "[[4263  260]\n",
      " [ 508 3974]]\n"
     ]
    },
    {
     "data": {
      "text/plain": [
       "<matplotlib.axes._subplots.AxesSubplot at 0x1ba9da06d48>"
      ]
     },
     "execution_count": 19,
     "metadata": {},
     "output_type": "execute_result"
    },
    {
     "data": {
      "image/png": "[encoded data removed]",
      "text/plain": [
       "<Figure size 432x288 with 1 Axes>"
      ]
     },
     "metadata": {
      "needs_background": "light"
     },
     "output_type": "display_data"
    }
   ],
   "source": [
    "print(\"#####################################\")\n",
    "print(\"#       Decision T Precision        #\")\n",
    "print(\"#       --------------------        #\")\n",
    "print(\"#             \",(dprecision*100).round(2),\"               #\")\n",
    "print(\"#####################################\")\n",
    "print(\"\\n\\n\")  \n",
    "print(\"####################################\")\n",
    "print(\"#     Decision T Recall            #\")\n",
    "print(\"#     ------------------           #\")\n",
    "print(\"#             \",(drecall*100).round(2),\"              #\")\n",
    "print(\"####################################\")\n",
    "print(\"\\n\\n\")  \n",
    "\n",
    "print(\"     Decision Tree confusion matrix           \")\n",
    "print(\"     ==============================          \")\n",
    "print(dconfusion)\n",
    "\n",
    "labels = ['Precision' ,'Recall']\n",
    "metrix = [dprecision, drecall]\n",
    "s.barplot(x=labels,y=metrix)"
   ]
  },
  {
   "cell_type": "markdown",
   "metadata": {},
   "source": [
    "# Rendom forest"
   ]
  },
  {
   "cell_type": "code",
   "execution_count": 20,
   "metadata": {},
   "outputs": [],
   "source": [
    "from sklearn.ensemble import RandomForestClassifier\n",
    "\n",
    "max_accuracy = 0\n",
    "\n",
    "\n",
    "for x in range(2000):\n",
    "    rf = RandomForestClassifier(random_state=x)\n",
    "    rf.fit(X_train,Y_train)\n",
    "    Y_pred_rf = rf.predict(X_test)\n",
    "    current_accuracy = round(accuracy_score(Y_pred_rf,Y_test)*100,2)\n",
    "    if(current_accuracy>max_accuracy):\n",
    "        max_accuracy = current_accuracy\n",
    "        best_x = x\n",
    "        \n",
    "#print(max_accuracy)\n",
    "#print(best_x)\n",
    "\n",
    "rf = RandomForestClassifier(random_state=best_x)\n",
    "rf.fit(X_train,Y_train)\n",
    "Y_pred_rf = rf.predict(X_test)"
   ]
  },
  {
   "cell_type": "code",
   "execution_count": 21,
   "metadata": {},
   "outputs": [
    {
     "name": "stdout",
     "output_type": "stream",
     "text": [
      "The accuracy score achieved using Random forest is: 93.29 %\n"
     ]
    }
   ],
   "source": [
    "score_rf = round(accuracy_score(Y_pred_rf,Y_test)*100,2)\n",
    "\n",
    "print(\"The accuracy score achieved using Random forest is: \"+str(score_rf)+\" %\")"
   ]
  },
  {
   "cell_type": "code",
   "execution_count": 22,
   "metadata": {},
   "outputs": [],
   "source": [
    "## Model Performance Using Confusion matrix and accuracy \n",
    "from sklearn.metrics import confusion_matrix, roc_curve,roc_auc_score, precision_score,recall_score\n",
    "dconfusion = confusion_matrix(Y_test, Y_pred_rf)\n",
    "dprecision = precision_score(Y_test,Y_pred_rf)\n",
    "drecall = recall_score(Y_test, Y_pred_rf)"
   ]
  },
  {
   "cell_type": "code",
   "execution_count": 23,
   "metadata": {},
   "outputs": [
    {
     "name": "stdout",
     "output_type": "stream",
     "text": [
      "#####################################\n",
      "#      Rendom forest Precision        #\n",
      "#       --------------------        #\n",
      "#              95.43                #\n",
      "#####################################\n",
      "\n",
      "\n",
      "\n",
      "####################################\n",
      "#    Rendom forest Recall            #\n",
      "#     ------------------           #\n",
      "#              90.87               #\n",
      "####################################\n",
      "\n",
      "\n",
      "\n",
      "     Rendom forest confusion matrix           \n",
      "     ==============================          \n",
      "[[4328  195]\n",
      " [ 409 4073]]\n"
     ]
    },
    {
     "data": {
      "text/plain": [
       "<matplotlib.axes._subplots.AxesSubplot at 0x1baa2f51508>"
      ]
     },
     "execution_count": 23,
     "metadata": {},
     "output_type": "execute_result"
    },
    {
     "data": {
      "image/png": "[encoded data removed]",
      "text/plain": [
       "<Figure size 432x288 with 1 Axes>"
      ]
     },
     "metadata": {
      "needs_background": "light"
     },
     "output_type": "display_data"
    }
   ],
   "source": [
    "print(\"#####################################\")\n",
    "print(\"#      Rendom forest Precision        #\")\n",
    "print(\"#       --------------------        #\")\n",
    "print(\"#             \",(dprecision*100).round(2),\"               #\")\n",
    "print(\"#####################################\")\n",
    "print(\"\\n\\n\")  \n",
    "print(\"####################################\")\n",
    "print(\"#    Rendom forest Recall            #\")\n",
    "print(\"#     ------------------           #\")\n",
    "print(\"#             \",(drecall*100).round(2),\"              #\")\n",
    "print(\"####################################\")\n",
    "print(\"\\n\\n\")  \n",
    "\n",
    "print(\"     Rendom forest confusion matrix           \")\n",
    "print(\"     ==============================          \")\n",
    "print(dconfusion)\n",
    "\n",
    "labels = ['Precision' ,'Recall']\n",
    "metrix = [dprecision, drecall]\n",
    "s.barplot(x=labels,y=metrix)"
   ]
  },
  {
   "cell_type": "markdown",
   "metadata": {},
   "source": [
    "# Support vector machine "
   ]
  },
  {
   "cell_type": "code",
   "execution_count": 38,
   "metadata": {},
   "outputs": [],
   "source": [
    "from sklearn import svm\n",
    "\n",
    "sv = svm.SVC(kernel='linear')\n",
    "\n",
    "sv.fit(X_train, Y_train)\n",
    "\n",
    "Y_pred_svm = sv.predict(X_test)"
   ]
  },
  {
   "cell_type": "code",
   "execution_count": 39,
   "metadata": {},
   "outputs": [
    {
     "name": "stdout",
     "output_type": "stream",
     "text": [
      "The accuracy score achieved using Linear SVM is: 82.49 %\n"
     ]
    }
   ],
   "source": [
    "score_svm = round(accuracy_score(Y_pred_svm,Y_test)*100,2)\n",
    "\n",
    "print(\"The accuracy score achieved using Linear SVM is: \"+str(score_svm)+\" %\")"
   ]
  },
  {
   "cell_type": "code",
   "execution_count": 40,
   "metadata": {},
   "outputs": [],
   "source": [
    "## Model Performance Using Confusion matrix and accuracy \n",
    "from sklearn.metrics import confusion_matrix, roc_curve,roc_auc_score, precision_score,recall_score\n",
    "dconfusion = confusion_matrix(Y_test, Y_pred_svm)\n",
    "dprecision = precision_score(Y_test,Y_pred_svm)\n",
    "drecall = recall_score(Y_test, Y_pred_svm)"
   ]
  },
  {
   "cell_type": "code",
   "execution_count": 41,
   "metadata": {},
   "outputs": [
    {
     "name": "stdout",
     "output_type": "stream",
     "text": [
      "#####################################\n",
      "#      SVM Precision        #\n",
      "#       --------------------        #\n",
      "#              87.76                #\n",
      "#####################################\n",
      "\n",
      "\n",
      "\n",
      "####################################\n",
      "#   SVM Recall            #\n",
      "#     ------------------           #\n",
      "#              75.32               #\n",
      "####################################\n",
      "\n",
      "\n",
      "\n",
      "     SVM confusion matrix           \n",
      "     ==============================          \n",
      "[[4052  471]\n",
      " [1106 3376]]\n"
     ]
    },
    {
     "data": {
      "text/plain": [
       "<matplotlib.axes._subplots.AxesSubplot at 0x22000280448>"
      ]
     },
     "execution_count": 41,
     "metadata": {},
     "output_type": "execute_result"
    },
    {
     "data": {
      "image/png": "[encoded data removed]",
      "text/plain": [
       "<Figure size 432x288 with 1 Axes>"
      ]
     },
     "metadata": {
      "needs_background": "light"
     },
     "output_type": "display_data"
    }
   ],
   "source": [
    "print(\"#####################################\")\n",
    "print(\"#      SVM Precision        #\")\n",
    "print(\"#       --------------------        #\")\n",
    "print(\"#             \",(dprecision*100).round(2),\"               #\")\n",
    "print(\"#####################################\")\n",
    "print(\"\\n\\n\")  \n",
    "print(\"####################################\")\n",
    "print(\"#   SVM Recall            #\")\n",
    "print(\"#     ------------------           #\")\n",
    "print(\"#             \",(drecall*100).round(2),\"              #\")\n",
    "print(\"####################################\")\n",
    "print(\"\\n\\n\")  \n",
    "\n",
    "print(\"     SVM confusion matrix           \")\n",
    "print(\"     ==============================          \")\n",
    "print(dconfusion)\n",
    "\n",
    "labels = ['Precision' ,'Recall']\n",
    "metrix = [dprecision, drecall]\n",
    "s.barplot(x=labels,y=metrix)"
   ]
  },
  {
   "cell_type": "markdown",
   "metadata": {},
   "source": [
    "# Logistic regression"
   ]
  },
  {
   "cell_type": "code",
   "execution_count": 22,
   "metadata": {},
   "outputs": [],
   "source": [
    "from sklearn.linear_model import LogisticRegression\n",
    "\n",
    "lr = LogisticRegression()\n",
    "\n",
    "lr.fit(X_train,Y_train)\n",
    "\n",
    "Y_pred_lr = lr.predict(X_test)"
   ]
  },
  {
   "cell_type": "code",
   "execution_count": 23,
   "metadata": {},
   "outputs": [
    {
     "name": "stdout",
     "output_type": "stream",
     "text": [
      "The accuracy score achieved using Logistic Regression is: 80.86 %\n"
     ]
    }
   ],
   "source": [
    "score_lr = round(accuracy_score(Y_pred_lr,Y_test)*100,2)\n",
    "\n",
    "print(\"The accuracy score achieved using Logistic Regression is: \"+str(score_lr)+\" %\")"
   ]
  },
  {
   "cell_type": "code",
   "execution_count": 24,
   "metadata": {},
   "outputs": [],
   "source": [
    "## Model Performance Using Confusion matrix and accuracy \n",
    "from sklearn.metrics import accuracy_score, confusion_matrix, roc_curve,roc_auc_score, precision_score,recall_score\n",
    "lconfusion = confusion_matrix(Y_test,Y_pred_lr)\n",
    "lprecision = precision_score(Y_test,Y_pred_lr)\n",
    "lrecall = recall_score(Y_test,Y_pred_lr)"
   ]
  },
  {
   "cell_type": "code",
   "execution_count": 45,
   "metadata": {},
   "outputs": [
    {
     "name": "stdout",
     "output_type": "stream",
     "text": [
      "\n",
      "\n",
      "\n",
      "#####################################\n",
      "#       Logistic Precision          #\n",
      "#       ----------------            #\n",
      "#              85.4                #\n",
      "#####################################\n",
      "\n",
      "\n",
      "\n",
      "####################################\n",
      "#       Logistic Recall            #\n",
      "#       ----------------           #\n",
      "#              75.3               #\n",
      "####################################\n",
      "\n",
      "\n",
      "\n",
      "     Logistic confusion matrix           \n",
      "     --------------------------          \n",
      "[[3946  577]\n",
      " [1107 3375]]\n"
     ]
    },
    {
     "data": {
      "text/plain": [
       "<matplotlib.axes._subplots.AxesSubplot at 0x220002df548>"
      ]
     },
     "execution_count": 45,
     "metadata": {},
     "output_type": "execute_result"
    },
    {
     "data": {
      "image/png": "[encoded data removed]",
      "text/plain": [
       "<Figure size 432x288 with 1 Axes>"
      ]
     },
     "metadata": {
      "needs_background": "light"
     },
     "output_type": "display_data"
    }
   ],
   "source": [
    "\n",
    "print(\"\\n\\n\")  \n",
    "print(\"#####################################\")\n",
    "print(\"#       Logistic Precision          #\")\n",
    "print(\"#       ----------------            #\")\n",
    "print(\"#             \",(lprecision*100).round(2),\"               #\")\n",
    "print(\"#####################################\")\n",
    "print(\"\\n\\n\")  \n",
    "print(\"####################################\")\n",
    "print(\"#       Logistic Recall            #\")\n",
    "print(\"#       ----------------           #\")\n",
    "print(\"#             \",(lrecall*100).round(2),\"              #\")\n",
    "print(\"####################################\")\n",
    "print(\"\\n\\n\")  \n",
    "\n",
    "print(\"     Logistic confusion matrix           \")\n",
    "print(\"     --------------------------          \")\n",
    "print(lconfusion)\n",
    "\n",
    "labels = [ 'Precision' ,'Recall']\n",
    "metrix = [lprecision, lrecall]\n",
    "s.barplot(x=labels,y=metrix)"
   ]
  },
  {
   "cell_type": "markdown",
   "metadata": {},
   "source": [
    "# XGboost"
   ]
  },
  {
   "cell_type": "code",
   "execution_count": 24,
   "metadata": {},
   "outputs": [],
   "source": [
    "import xgboost as xgb\n",
    "\n",
    "xgb_model = xgb.XGBClassifier(objective=\"binary:logistic\", random_state=42)\n",
    "xgb_model.fit(X_train, Y_train)\n",
    "\n",
    "Y_pred_xgb = xgb_model.predict(X_test)"
   ]
  },
  {
   "cell_type": "code",
   "execution_count": 25,
   "metadata": {},
   "outputs": [
    {
     "name": "stdout",
     "output_type": "stream",
     "text": [
      "The accuracy score achieved using XGBoost is: 91.44 %\n"
     ]
    }
   ],
   "source": [
    "score_xgb = round(accuracy_score(Y_pred_xgb,Y_test)*100,2)\n",
    "\n",
    "print(\"The accuracy score achieved using XGBoost is: \"+str(score_xgb)+\" %\")"
   ]
  },
  {
   "cell_type": "code",
   "execution_count": 26,
   "metadata": {},
   "outputs": [],
   "source": [
    "## Model Performance Using Confusion matrix and accuracy \n",
    "from sklearn.metrics import accuracy_score, confusion_matrix, roc_curve,roc_auc_score, precision_score,recall_score\n",
    "lconfusion = confusion_matrix(Y_test,Y_pred_xgb )\n",
    "lprecision = precision_score(Y_test,Y_pred_xgb )\n",
    "lrecall = recall_score(Y_test,Y_pred_xgb )"
   ]
  },
  {
   "cell_type": "code",
   "execution_count": 27,
   "metadata": {},
   "outputs": [
    {
     "name": "stdout",
     "output_type": "stream",
     "text": [
      "\n",
      "\n",
      "\n",
      "#####################################\n",
      "#       xgb Precision          #\n",
      "#       ----------------            #\n",
      "#              94.53                #\n",
      "#####################################\n",
      "\n",
      "\n",
      "\n",
      "####################################\n",
      "#       xgb Recall            #\n",
      "#       ----------------           #\n",
      "#              87.88               #\n",
      "####################################\n",
      "\n",
      "\n",
      "\n",
      "     xgb confusion matrix           \n",
      "     --------------------------          \n",
      "[[4295  228]\n",
      " [ 543 3939]]\n"
     ]
    },
    {
     "data": {
      "text/plain": [
       "<matplotlib.axes._subplots.AxesSubplot at 0x1baa41acbc8>"
      ]
     },
     "execution_count": 27,
     "metadata": {},
     "output_type": "execute_result"
    },
    {
     "data": {
      "image/png": "[encoded data removed]",
      "text/plain": [
       "<Figure size 432x288 with 1 Axes>"
      ]
     },
     "metadata": {
      "needs_background": "light"
     },
     "output_type": "display_data"
    }
   ],
   "source": [
    "print(\"\\n\\n\")  \n",
    "print(\"#####################################\")\n",
    "print(\"#       xgb Precision          #\")\n",
    "print(\"#       ----------------            #\")\n",
    "print(\"#             \",(lprecision*100).round(2),\"               #\")\n",
    "print(\"#####################################\")\n",
    "print(\"\\n\\n\")  \n",
    "print(\"####################################\")\n",
    "print(\"#       xgb Recall            #\")\n",
    "print(\"#       ----------------           #\")\n",
    "print(\"#             \",(lrecall*100).round(2),\"              #\")\n",
    "print(\"####################################\")\n",
    "print(\"\\n\\n\")  \n",
    "\n",
    "print(\"     xgb confusion matrix           \")\n",
    "print(\"     --------------------------          \")\n",
    "print(lconfusion)\n",
    "\n",
    "labels = [ 'Precision' ,'Recall']\n",
    "metrix = [lprecision, lrecall]\n",
    "s.barplot(x=labels,y=metrix)"
   ]
  },
  {
   "cell_type": "markdown",
   "metadata": {},
   "source": [
    "# ANN"
   ]
  },
  {
   "cell_type": "code",
   "execution_count": 28,
   "metadata": {},
   "outputs": [],
   "source": [
    "from keras.models import Sequential\n",
    "from keras.layers import Dense"
   ]
  },
  {
   "cell_type": "code",
   "execution_count": 29,
   "metadata": {},
   "outputs": [],
   "source": [
    "from tensorflow.keras.models import Sequential\n",
    "from tensorflow.keras.layers import Dense"
   ]
  },
  {
   "cell_type": "code",
   "execution_count": 30,
   "metadata": {},
   "outputs": [],
   "source": [
    "# https://stats.stackexchange.com/a/136542 helped a lot in avoiding overfitting\n",
    "\n",
    "model = Sequential()\n",
    "model.add(Dense(19,activation='relu',input_dim=20))\n",
    "model.add(Dense(1,activation='sigmoid'))\n",
    "\n",
    "model.compile(loss='binary_crossentropy',optimizer='adam',metrics=['accuracy'])"
   ]
  },
  {
   "cell_type": "code",
   "execution_count": 31,
   "metadata": {},
   "outputs": [
    {
     "name": "stdout",
     "output_type": "stream",
     "text": [
      "Epoch 1/150\n",
      "657/657 [==============================] - 5s 2ms/step - loss: 1.8131 - accuracy: 0.6218\n",
      "Epoch 2/150\n",
      "657/657 [==============================] - 1s 2ms/step - loss: 0.5548 - accuracy: 0.7295\n",
      "Epoch 3/150\n",
      "657/657 [==============================] - 1s 2ms/step - loss: 0.5119 - accuracy: 0.7624\n",
      "Epoch 4/150\n",
      "657/657 [==============================] - 1s 2ms/step - loss: 0.4901 - accuracy: 0.7721\n",
      "Epoch 5/150\n",
      "657/657 [==============================] - 1s 2ms/step - loss: 0.4561 - accuracy: 0.7898\n",
      "Epoch 6/150\n",
      "657/657 [==============================] - 1s 2ms/step - loss: 0.4582 - accuracy: 0.7890\n",
      "Epoch 7/150\n",
      "657/657 [==============================] - 1s 1ms/step - loss: 0.4378 - accuracy: 0.7979\n",
      "Epoch 8/150\n",
      "657/657 [==============================] - 1s 2ms/step - loss: 0.4506 - accuracy: 0.7948\n",
      "Epoch 9/150\n",
      "657/657 [==============================] - 1s 2ms/step - loss: 0.4373 - accuracy: 0.8002\n",
      "Epoch 10/150\n",
      "657/657 [==============================] - 1s 2ms/step - loss: 0.4497 - accuracy: 0.7947\n",
      "Epoch 11/150\n",
      "657/657 [==============================] - 1s 2ms/step - loss: 0.4452 - accuracy: 0.8014\n",
      "Epoch 12/150\n",
      "657/657 [==============================] - 1s 1ms/step - loss: 0.4231 - accuracy: 0.8085\n",
      "Epoch 13/150\n",
      "657/657 [==============================] - 1s 1ms/step - loss: 0.4260 - accuracy: 0.8065\n",
      "Epoch 14/150\n",
      "657/657 [==============================] - 1s 2ms/step - loss: 0.4249 - accuracy: 0.8071\n",
      "Epoch 15/150\n",
      "657/657 [==============================] - 1s 2ms/step - loss: 0.4243 - accuracy: 0.8078\n",
      "Epoch 16/150\n",
      "657/657 [==============================] - 1s 1ms/step - loss: 0.4283 - accuracy: 0.8089\n",
      "Epoch 17/150\n",
      "657/657 [==============================] - 1s 2ms/step - loss: 0.4259 - accuracy: 0.8075\n",
      "Epoch 18/150\n",
      "657/657 [==============================] - 1s 2ms/step - loss: 0.4156 - accuracy: 0.8146\n",
      "Epoch 19/150\n",
      "657/657 [==============================] - 1s 2ms/step - loss: 0.4344 - accuracy: 0.8076\n",
      "Epoch 20/150\n",
      "657/657 [==============================] - 1s 2ms/step - loss: 0.4108 - accuracy: 0.8144\n",
      "Epoch 21/150\n",
      "657/657 [==============================] - 1s 1ms/step - loss: 0.4259 - accuracy: 0.8084\n",
      "Epoch 22/150\n",
      "657/657 [==============================] - 1s 2ms/step - loss: 0.3979 - accuracy: 0.8220\n",
      "Epoch 23/150\n",
      "657/657 [==============================] - 1s 2ms/step - loss: 0.4119 - accuracy: 0.8141\n",
      "Epoch 24/150\n",
      "657/657 [==============================] - 1s 2ms/step - loss: 0.4367 - accuracy: 0.8069\n",
      "Epoch 25/150\n",
      "657/657 [==============================] - 1s 1ms/step - loss: 0.4146 - accuracy: 0.8134\n",
      "Epoch 26/150\n",
      "657/657 [==============================] - 1s 1ms/step - loss: 0.4170 - accuracy: 0.8131\n",
      "Epoch 27/150\n",
      "657/657 [==============================] - 1s 2ms/step - loss: 0.4061 - accuracy: 0.8184\n",
      "Epoch 28/150\n",
      "657/657 [==============================] - 1s 2ms/step - loss: 0.4199 - accuracy: 0.8113\n",
      "Epoch 29/150\n",
      "657/657 [==============================] - 1s 2ms/step - loss: 0.4217 - accuracy: 0.8140\n",
      "Epoch 30/150\n",
      "657/657 [==============================] - 1s 2ms/step - loss: 0.4198 - accuracy: 0.8136\n",
      "Epoch 31/150\n",
      "657/657 [==============================] - 1s 1ms/step - loss: 0.4139 - accuracy: 0.8133\n",
      "Epoch 32/150\n",
      "657/657 [==============================] - 1s 1ms/step - loss: 0.4195 - accuracy: 0.8126\n",
      "Epoch 33/150\n",
      "657/657 [==============================] - 1s 1ms/step - loss: 0.4221 - accuracy: 0.8089\n",
      "Epoch 34/150\n",
      "657/657 [==============================] - 1s 1ms/step - loss: 0.4099 - accuracy: 0.8173\n",
      "Epoch 35/150\n",
      "657/657 [==============================] - 1s 2ms/step - loss: 0.4223 - accuracy: 0.8140\n",
      "Epoch 36/150\n",
      "657/657 [==============================] - 1s 2ms/step - loss: 0.4239 - accuracy: 0.8121\n",
      "Epoch 37/150\n",
      "657/657 [==============================] - 1s 1ms/step - loss: 0.4219 - accuracy: 0.8134\n",
      "Epoch 38/150\n",
      "657/657 [==============================] - 1s 2ms/step - loss: 0.4165 - accuracy: 0.8151\n",
      "Epoch 39/150\n",
      "657/657 [==============================] - 1s 2ms/step - loss: 0.4149 - accuracy: 0.8158\n",
      "Epoch 40/150\n",
      "657/657 [==============================] - 1s 2ms/step - loss: 0.4074 - accuracy: 0.8165\n",
      "Epoch 41/150\n",
      "657/657 [==============================] - 1s 2ms/step - loss: 0.4055 - accuracy: 0.8158\n",
      "Epoch 42/150\n",
      "657/657 [==============================] - 1s 2ms/step - loss: 0.4049 - accuracy: 0.8204\n",
      "Epoch 43/150\n",
      "657/657 [==============================] - 1s 2ms/step - loss: 0.4005 - accuracy: 0.8194\n",
      "Epoch 44/150\n",
      "657/657 [==============================] - 1s 2ms/step - loss: 0.4206 - accuracy: 0.8122\n",
      "Epoch 45/150\n",
      "657/657 [==============================] - 1s 2ms/step - loss: 0.4059 - accuracy: 0.8188\n",
      "Epoch 46/150\n",
      "657/657 [==============================] - 1s 2ms/step - loss: 0.4054 - accuracy: 0.8197\n",
      "Epoch 47/150\n",
      "657/657 [==============================] - 1s 1ms/step - loss: 0.4270 - accuracy: 0.8105\n",
      "Epoch 48/150\n",
      "657/657 [==============================] - 1s 1ms/step - loss: 0.4071 - accuracy: 0.8188\n",
      "Epoch 49/150\n",
      "657/657 [==============================] - 1s 1ms/step - loss: 0.3931 - accuracy: 0.8230\n",
      "Epoch 50/150\n",
      "657/657 [==============================] - 1s 1ms/step - loss: 0.4113 - accuracy: 0.8156\n",
      "Epoch 51/150\n",
      "657/657 [==============================] - 1s 2ms/step - loss: 0.4047 - accuracy: 0.8206\n",
      "Epoch 52/150\n",
      "657/657 [==============================] - 1s 2ms/step - loss: 0.4278 - accuracy: 0.8103\n",
      "Epoch 53/150\n",
      "657/657 [==============================] - 1s 1ms/step - loss: 0.3969 - accuracy: 0.8244\n",
      "Epoch 54/150\n",
      "657/657 [==============================] - 1s 2ms/step - loss: 0.3893 - accuracy: 0.8243\n",
      "Epoch 55/150\n",
      "657/657 [==============================] - 1s 2ms/step - loss: 0.4016 - accuracy: 0.8226\n",
      "Epoch 56/150\n",
      "657/657 [==============================] - 1s 2ms/step - loss: 0.4094 - accuracy: 0.8189\n",
      "Epoch 57/150\n",
      "657/657 [==============================] - 1s 2ms/step - loss: 0.3934 - accuracy: 0.8234\n",
      "Epoch 58/150\n",
      "657/657 [==============================] - 1s 2ms/step - loss: 0.4016 - accuracy: 0.8214\n",
      "Epoch 59/150\n",
      "657/657 [==============================] - 1s 1ms/step - loss: 0.4061 - accuracy: 0.8196\n",
      "Epoch 60/150\n",
      "657/657 [==============================] - 1s 1ms/step - loss: 0.3912 - accuracy: 0.8252\n",
      "Epoch 61/150\n",
      "657/657 [==============================] - 1s 2ms/step - loss: 0.3960 - accuracy: 0.8242\n",
      "Epoch 62/150\n",
      "657/657 [==============================] - 1s 2ms/step - loss: 0.3960 - accuracy: 0.8226\n",
      "Epoch 63/150\n",
      "657/657 [==============================] - 1s 1ms/step - loss: 0.4127 - accuracy: 0.8182\n",
      "Epoch 64/150\n",
      "657/657 [==============================] - 1s 2ms/step - loss: 0.4008 - accuracy: 0.8202\n",
      "Epoch 65/150\n",
      "657/657 [==============================] - 1s 2ms/step - loss: 0.3959 - accuracy: 0.8213\n",
      "Epoch 66/150\n",
      "657/657 [==============================] - 1s 2ms/step - loss: 0.4076 - accuracy: 0.8193\n",
      "Epoch 67/150\n",
      "657/657 [==============================] - 1s 2ms/step - loss: 0.3951 - accuracy: 0.8229\n",
      "Epoch 68/150\n",
      "657/657 [==============================] - 1s 2ms/step - loss: 0.3926 - accuracy: 0.8252\n",
      "Epoch 69/150\n",
      "657/657 [==============================] - 1s 2ms/step - loss: 0.4009 - accuracy: 0.8178\n",
      "Epoch 70/150\n",
      "657/657 [==============================] - 1s 2ms/step - loss: 0.4066 - accuracy: 0.8201\n",
      "Epoch 71/150\n",
      "657/657 [==============================] - 1s 2ms/step - loss: 0.3966 - accuracy: 0.8228\n",
      "Epoch 72/150\n",
      "657/657 [==============================] - 1s 2ms/step - loss: 0.4064 - accuracy: 0.8209\n",
      "Epoch 73/150\n",
      "657/657 [==============================] - 1s 2ms/step - loss: 0.3916 - accuracy: 0.8242\n",
      "Epoch 74/150\n",
      "657/657 [==============================] - 1s 2ms/step - loss: 0.3891 - accuracy: 0.8265\n",
      "Epoch 75/150\n",
      "657/657 [==============================] - 1s 2ms/step - loss: 0.3931 - accuracy: 0.8240\n",
      "Epoch 76/150\n",
      "657/657 [==============================] - 1s 2ms/step - loss: 0.3945 - accuracy: 0.8248\n",
      "Epoch 77/150\n",
      "657/657 [==============================] - 1s 2ms/step - loss: 0.3898 - accuracy: 0.8245\n",
      "Epoch 78/150\n",
      "657/657 [==============================] - 1s 1ms/step - loss: 0.3943 - accuracy: 0.8227\n",
      "Epoch 79/150\n",
      "657/657 [==============================] - 1s 1ms/step - loss: 0.3944 - accuracy: 0.8236\n",
      "Epoch 80/150\n",
      "657/657 [==============================] - 1s 2ms/step - loss: 0.3838 - accuracy: 0.8266\n",
      "Epoch 81/150\n",
      "657/657 [==============================] - 1s 2ms/step - loss: 0.3986 - accuracy: 0.8213\n",
      "Epoch 82/150\n",
      "657/657 [==============================] - 1s 2ms/step - loss: 0.3965 - accuracy: 0.8247\n",
      "Epoch 83/150\n",
      "657/657 [==============================] - 1s 2ms/step - loss: 0.3863 - accuracy: 0.8270\n",
      "Epoch 84/150\n",
      "657/657 [==============================] - 1s 2ms/step - loss: 0.3958 - accuracy: 0.8204\n",
      "Epoch 85/150\n",
      "657/657 [==============================] - 1s 2ms/step - loss: 0.3901 - accuracy: 0.8244\n",
      "Epoch 86/150\n",
      "657/657 [==============================] - 1s 2ms/step - loss: 0.4008 - accuracy: 0.8220\n",
      "Epoch 87/150\n",
      "657/657 [==============================] - 1s 1ms/step - loss: 0.3964 - accuracy: 0.8227\n",
      "Epoch 88/150\n",
      "657/657 [==============================] - 1s 1ms/step - loss: 0.4004 - accuracy: 0.8195\n",
      "Epoch 89/150\n",
      "657/657 [==============================] - 1s 1ms/step - loss: 0.3864 - accuracy: 0.8246\n",
      "Epoch 90/150\n",
      "657/657 [==============================] - 1s 1ms/step - loss: 0.3936 - accuracy: 0.8230\n",
      "Epoch 91/150\n",
      "657/657 [==============================] - 1s 1ms/step - loss: 0.3908 - accuracy: 0.8225\n",
      "Epoch 92/150\n",
      "657/657 [==============================] - 1s 2ms/step - loss: 0.3929 - accuracy: 0.8219\n",
      "Epoch 93/150\n",
      "657/657 [==============================] - 1s 2ms/step - loss: 0.3953 - accuracy: 0.8222\n",
      "Epoch 94/150\n",
      "657/657 [==============================] - 1s 1ms/step - loss: 0.3983 - accuracy: 0.8193\n",
      "Epoch 95/150\n",
      "657/657 [==============================] - 1s 1ms/step - loss: 0.3830 - accuracy: 0.8269\n",
      "Epoch 96/150\n",
      "657/657 [==============================] - 1s 2ms/step - loss: 0.3899 - accuracy: 0.8253\n",
      "Epoch 97/150\n",
      "657/657 [==============================] - 1s 2ms/step - loss: 0.3790 - accuracy: 0.8291\n",
      "Epoch 98/150\n",
      "657/657 [==============================] - 1s 2ms/step - loss: 0.3811 - accuracy: 0.8292\n",
      "Epoch 99/150\n",
      "657/657 [==============================] - 1s 2ms/step - loss: 0.3741 - accuracy: 0.8310\n",
      "Epoch 100/150\n",
      "657/657 [==============================] - 1s 2ms/step - loss: 0.3911 - accuracy: 0.8231\n",
      "Epoch 101/150\n",
      "657/657 [==============================] - 1s 2ms/step - loss: 0.4080 - accuracy: 0.8164\n",
      "Epoch 102/150\n",
      "657/657 [==============================] - 1s 1ms/step - loss: 0.3764 - accuracy: 0.8316\n",
      "Epoch 103/150\n",
      "657/657 [==============================] - 1s 2ms/step - loss: 0.3920 - accuracy: 0.8240\n",
      "Epoch 104/150\n",
      "657/657 [==============================] - 1s 1ms/step - loss: 0.3828 - accuracy: 0.8283\n",
      "Epoch 105/150\n",
      "657/657 [==============================] - 1s 2ms/step - loss: 0.3993 - accuracy: 0.8222\n",
      "Epoch 106/150\n",
      "657/657 [==============================] - 1s 2ms/step - loss: 0.3810 - accuracy: 0.8292\n",
      "Epoch 107/150\n",
      "657/657 [==============================] - 1s 2ms/step - loss: 0.3863 - accuracy: 0.8282\n",
      "Epoch 108/150\n",
      "657/657 [==============================] - 1s 2ms/step - loss: 0.3812 - accuracy: 0.8287\n",
      "Epoch 109/150\n",
      "657/657 [==============================] - 1s 2ms/step - loss: 0.3831 - accuracy: 0.8284\n",
      "Epoch 110/150\n",
      "657/657 [==============================] - 1s 2ms/step - loss: 0.3797 - accuracy: 0.8263\n",
      "Epoch 111/150\n",
      "657/657 [==============================] - 1s 2ms/step - loss: 0.3824 - accuracy: 0.8291\n",
      "Epoch 112/150\n",
      "657/657 [==============================] - 1s 2ms/step - loss: 0.3873 - accuracy: 0.8257\n",
      "Epoch 113/150\n",
      "657/657 [==============================] - 1s 2ms/step - loss: 0.3923 - accuracy: 0.8235\n",
      "Epoch 114/150\n",
      "657/657 [==============================] - 1s 2ms/step - loss: 0.3693 - accuracy: 0.8320\n",
      "Epoch 115/150\n",
      "657/657 [==============================] - 1s 2ms/step - loss: 0.3905 - accuracy: 0.8247\n",
      "Epoch 116/150\n",
      "657/657 [==============================] - 1s 2ms/step - loss: 0.3727 - accuracy: 0.8305\n",
      "Epoch 117/150\n",
      "657/657 [==============================] - 1s 2ms/step - loss: 0.3799 - accuracy: 0.8263\n",
      "Epoch 118/150\n",
      "657/657 [==============================] - 1s 2ms/step - loss: 0.3816 - accuracy: 0.8305\n",
      "Epoch 119/150\n",
      "657/657 [==============================] - 1s 2ms/step - loss: 0.3858 - accuracy: 0.8265\n",
      "Epoch 120/150\n",
      "657/657 [==============================] - 1s 1ms/step - loss: 0.3927 - accuracy: 0.8266\n",
      "Epoch 121/150\n",
      "657/657 [==============================] - 1s 1ms/step - loss: 0.3914 - accuracy: 0.8230\n",
      "Epoch 122/150\n",
      "657/657 [==============================] - 1s 2ms/step - loss: 0.3807 - accuracy: 0.8277\n",
      "Epoch 123/150\n",
      "657/657 [==============================] - 1s 2ms/step - loss: 0.3838 - accuracy: 0.8269\n",
      "Epoch 124/150\n",
      "657/657 [==============================] - 1s 1ms/step - loss: 0.3801 - accuracy: 0.8286\n",
      "Epoch 125/150\n",
      "657/657 [==============================] - 1s 1ms/step - loss: 0.3729 - accuracy: 0.8329\n",
      "Epoch 126/150\n",
      "657/657 [==============================] - 1s 1ms/step - loss: 0.3697 - accuracy: 0.8337\n",
      "Epoch 127/150\n",
      "657/657 [==============================] - 1s 2ms/step - loss: 0.3766 - accuracy: 0.8272\n",
      "Epoch 128/150\n",
      "657/657 [==============================] - 1s 2ms/step - loss: 0.3710 - accuracy: 0.8321\n",
      "Epoch 129/150\n",
      "657/657 [==============================] - 1s 2ms/step - loss: 0.3790 - accuracy: 0.8266\n",
      "Epoch 130/150\n",
      "657/657 [==============================] - 1s 2ms/step - loss: 0.3790 - accuracy: 0.8264\n",
      "Epoch 131/150\n",
      "657/657 [==============================] - 1s 1ms/step - loss: 0.3718 - accuracy: 0.8315\n",
      "Epoch 132/150\n",
      "657/657 [==============================] - 1s 2ms/step - loss: 0.3770 - accuracy: 0.8295\n",
      "Epoch 133/150\n",
      "657/657 [==============================] - 1s 2ms/step - loss: 0.3787 - accuracy: 0.8271\n",
      "Epoch 134/150\n",
      "657/657 [==============================] - 1s 2ms/step - loss: 0.3709 - accuracy: 0.8316\n",
      "Epoch 135/150\n",
      "657/657 [==============================] - 1s 2ms/step - loss: 0.3754 - accuracy: 0.8279\n",
      "Epoch 136/150\n",
      "657/657 [==============================] - 1s 2ms/step - loss: 0.3692 - accuracy: 0.8330\n",
      "Epoch 137/150\n",
      "657/657 [==============================] - 1s 2ms/step - loss: 0.3728 - accuracy: 0.8298\n",
      "Epoch 138/150\n",
      "657/657 [==============================] - 1s 2ms/step - loss: 0.3815 - accuracy: 0.8266\n",
      "Epoch 139/150\n",
      "657/657 [==============================] - 1s 2ms/step - loss: 0.3653 - accuracy: 0.8335\n",
      "Epoch 140/150\n",
      "657/657 [==============================] - 1s 2ms/step - loss: 0.3673 - accuracy: 0.8344\n",
      "Epoch 141/150\n",
      "657/657 [==============================] - 1s 2ms/step - loss: 0.3757 - accuracy: 0.8303\n",
      "Epoch 142/150\n",
      "657/657 [==============================] - 1s 1ms/step - loss: 0.3742 - accuracy: 0.8297\n",
      "Epoch 143/150\n",
      "657/657 [==============================] - 1s 2ms/step - loss: 0.3740 - accuracy: 0.8294\n",
      "Epoch 144/150\n",
      "657/657 [==============================] - 1s 2ms/step - loss: 0.3787 - accuracy: 0.8287\n",
      "Epoch 145/150\n",
      "657/657 [==============================] - 1s 1ms/step - loss: 0.3707 - accuracy: 0.8295\n",
      "Epoch 146/150\n",
      "657/657 [==============================] - 1s 1ms/step - loss: 0.3670 - accuracy: 0.8328\n",
      "Epoch 147/150\n",
      "657/657 [==============================] - 1s 1ms/step - loss: 0.3743 - accuracy: 0.8292\n",
      "Epoch 148/150\n",
      "657/657 [==============================] - 1s 1ms/step - loss: 0.3662 - accuracy: 0.8355\n",
      "Epoch 149/150\n",
      "657/657 [==============================] - 1s 1ms/step - loss: 0.3630 - accuracy: 0.8356\n",
      "Epoch 150/150\n",
      "657/657 [==============================] - 1s 2ms/step - loss: 0.3652 - accuracy: 0.8344\n"
     ]
    },
    {
     "data": {
      "text/plain": [
       "<keras.callbacks.History at 0x1baaaee1a48>"
      ]
     },
     "execution_count": 31,
     "metadata": {},
     "output_type": "execute_result"
    }
   ],
   "source": [
    "model.fit(X_train,Y_train,epochs=150)"
   ]
  },
  {
   "cell_type": "code",
   "execution_count": 32,
   "metadata": {},
   "outputs": [
    {
     "name": "stdout",
     "output_type": "stream",
     "text": [
      "282/282 [==============================] - 0s 1ms/step\n"
     ]
    }
   ],
   "source": [
    "Y_pred_nn = model.predict(X_test)"
   ]
  },
  {
   "cell_type": "code",
   "execution_count": 33,
   "metadata": {},
   "outputs": [],
   "source": [
    "rounded = [round(x[0]) for x in Y_pred_nn]\n",
    "\n",
    "Y_pred_nn = rounded"
   ]
  },
  {
   "cell_type": "code",
   "execution_count": 34,
   "metadata": {},
   "outputs": [
    {
     "name": "stdout",
     "output_type": "stream",
     "text": [
      "The accuracy score achieved using Neural Network is: 81.91 %\n"
     ]
    }
   ],
   "source": [
    "score_nn = round(accuracy_score(Y_pred_nn,Y_test)*100,2)\n",
    "\n",
    "print(\"The accuracy score achieved using Neural Network is: \"+str(score_nn)+\" %\")\n",
    "\n",
    "#Note: Accuracy of 85% can be achieved on the test set, by setting epochs=2000, and number of nodes = 11. "
   ]
  },
  {
   "cell_type": "code",
   "execution_count": 35,
   "metadata": {},
   "outputs": [],
   "source": [
    "## Model Performance Using Confusion matrix and accuracy \n",
    "from sklearn.metrics import accuracy_score, confusion_matrix, roc_curve,roc_auc_score, precision_score,recall_score\n",
    "lconfusion = confusion_matrix(Y_test,Y_pred_nn)\n",
    "lprecision = precision_score(Y_test,Y_pred_nn)\n",
    "lrecall = recall_score(Y_test,Y_pred_nn)"
   ]
  },
  {
   "cell_type": "code",
   "execution_count": 36,
   "metadata": {},
   "outputs": [
    {
     "name": "stdout",
     "output_type": "stream",
     "text": [
      "\n",
      "\n",
      "\n",
      "#####################################\n",
      "#       ANN Precision          #\n",
      "#       ----------------            #\n",
      "#              79.17                #\n",
      "#####################################\n",
      "\n",
      "\n",
      "\n",
      "####################################\n",
      "#       ANN Recall            #\n",
      "#       ----------------           #\n",
      "#              86.39               #\n",
      "####################################\n",
      "\n",
      "\n",
      "\n",
      "     ANN confusion matrix           \n",
      "     --------------------------          \n",
      "[[3504 1019]\n",
      " [ 610 3872]]\n"
     ]
    },
    {
     "data": {
      "text/plain": [
       "<matplotlib.axes._subplots.AxesSubplot at 0x1baab31d348>"
      ]
     },
     "execution_count": 36,
     "metadata": {},
     "output_type": "execute_result"
    },
    {
     "data": {
      "image/png": "[encoded data removed]",
      "text/plain": [
       "<Figure size 432x288 with 1 Axes>"
      ]
     },
     "metadata": {
      "needs_background": "light"
     },
     "output_type": "display_data"
    }
   ],
   "source": [
    "\n",
    "print(\"\\n\\n\")  \n",
    "print(\"#####################################\")\n",
    "print(\"#       ANN Precision          #\")\n",
    "print(\"#       ----------------            #\")\n",
    "print(\"#             \",(lprecision*100).round(2),\"               #\")\n",
    "print(\"#####################################\")\n",
    "print(\"\\n\\n\")  \n",
    "print(\"####################################\")\n",
    "print(\"#       ANN Recall            #\")\n",
    "print(\"#       ----------------           #\")\n",
    "print(\"#             \",(lrecall*100).round(2),\"              #\")\n",
    "print(\"####################################\")\n",
    "print(\"\\n\\n\")  \n",
    "\n",
    "print(\"     ANN confusion matrix           \")\n",
    "print(\"     --------------------------          \")\n",
    "print(lconfusion)\n",
    "\n",
    "labels = [ 'Precision' ,'Recall']\n",
    "metrix = [lprecision, lrecall]\n",
    "s.barplot(x=labels,y=metrix)"
   ]
  },
  {
   "cell_type": "code",
   "execution_count": 37,
   "metadata": {},
   "outputs": [
    {
     "name": "stdout",
     "output_type": "stream",
     "text": [
      "The accuracy score achieved using ANN is: 81.91 %\n",
      "The accuracy score achieved using DT is: 91.47 %\n",
      "The accuracy score achieved using RF is: 93.29 %\n",
      "The accuracy score achieved using XGBoost is: 91.44 %\n"
     ]
    }
   ],
   "source": [
    "scores = [score_nn,score_dt,score_rf,score_xgb]\n",
    "algorithms = [\"ANN\",\"DT\",\"RF\",\"XGBoost\"]    \n",
    "\n",
    "for i in range(len(algorithms)):\n",
    "    print(\"The accuracy score achieved using \"+algorithms[i]+\" is: \"+str(scores[i])+\" %\")"
   ]
  },
  {
   "cell_type": "code",
   "execution_count": 38,
   "metadata": {},
   "outputs": [
    {
     "data": {
      "text/plain": [
       "<matplotlib.axes._subplots.AxesSubplot at 0x1ba9a111c48>"
      ]
     },
     "execution_count": 38,
     "metadata": {},
     "output_type": "execute_result"
    },
    {
     "data": {
      "image/png": "[encoded data removed]",
      "text/plain": [
       "<Figure size 360x360 with 1 Axes>"
      ]
     },
     "metadata": {},
     "output_type": "display_data"
    }
   ],
   "source": [
    "sns.set(rc={'figure.figsize':(5,5)})\n",
    "plt.xlabel(\"Algorithms\")\n",
    "plt.ylabel(\"Accuracy score\")\n",
    "\n",
    "sns.barplot(algorithms,scores)"
   ]
  },
  {
   "cell_type": "code",
   "execution_count": null,
   "metadata": {},
   "outputs": [],
   "source": []
  }
 ],
 "metadata": {
  "kernelspec": {
   "display_name": "Python 3 (ipykernel)",
   "language": "python",
   "name": "python3"
  },
  "language_info": {
   "codemirror_mode": {
    "name": "ipython",
    "version": 3
   },
   "file_extension": ".py",
   "mimetype": "text/x-python",
   "name": "python",
   "nbconvert_exporter": "python",
   "pygments_lexer": "ipython3",
   "version": "3.10.9"
  }
 },
 "nbformat": 4,
 "nbformat_minor": 2
}
